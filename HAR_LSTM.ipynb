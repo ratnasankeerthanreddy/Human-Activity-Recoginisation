{
 "cells": [
  {
   "cell_type": "code",
   "execution_count": 1,
   "metadata": {},
   "outputs": [],
   "source": [
    "# Importing Libraries"
   ]
  },
  {
   "cell_type": "code",
   "execution_count": 2,
   "metadata": {},
   "outputs": [],
   "source": [
    "import pandas as pd\n",
    "import numpy as np"
   ]
  },
  {
   "cell_type": "code",
   "execution_count": 3,
   "metadata": {},
   "outputs": [],
   "source": [
    "# Activities are the class labels\n",
    "# It is a 6 class classification\n",
    "ACTIVITIES = {\n",
    "    0: 'WALKING',\n",
    "    1: 'WALKING_UPSTAIRS',\n",
    "    2: 'WALKING_DOWNSTAIRS',\n",
    "    3: 'SITTING',\n",
    "    4: 'STANDING',\n",
    "    5: 'LAYING',\n",
    "}\n",
    "\n",
    "# Utility function to print the confusion matrix\n",
    "def confusion_matrix(Y_true, Y_pred):\n",
    "    Y_true = pd.Series([ACTIVITIES[y] for y in np.argmax(Y_true, axis=1)])\n",
    "    Y_pred = pd.Series([ACTIVITIES[y] for y in np.argmax(Y_pred, axis=1)])\n",
    "\n",
    "    return pd.crosstab(Y_true, Y_pred, rownames=['True'], colnames=['Pred'])"
   ]
  },
  {
   "cell_type": "markdown",
   "metadata": {},
   "source": [
    "### Data"
   ]
  },
  {
   "cell_type": "code",
   "execution_count": 4,
   "metadata": {},
   "outputs": [],
   "source": [
    "# Data directory\n",
    "DATADIR = 'UCI_HAR_Dataset'"
   ]
  },
  {
   "cell_type": "code",
   "execution_count": 5,
   "metadata": {},
   "outputs": [],
   "source": [
    "# Raw data signals\n",
    "# Signals are from Accelerometer and Gyroscope\n",
    "# The signals are in x,y,z directions\n",
    "# Sensor signals are filtered to have only body acceleration\n",
    "# excluding the acceleration due to gravity\n",
    "# Triaxial acceleration from the accelerometer is total acceleration\n",
    "SIGNALS = [\n",
    "    \"body_acc_x\",\n",
    "    \"body_acc_y\",\n",
    "    \"body_acc_z\",\n",
    "    \"body_gyro_x\",\n",
    "    \"body_gyro_y\",\n",
    "    \"body_gyro_z\",\n",
    "    \"total_acc_x\",\n",
    "    \"total_acc_y\",\n",
    "    \"total_acc_z\"\n",
    "]"
   ]
  },
  {
   "cell_type": "code",
   "execution_count": 6,
   "metadata": {},
   "outputs": [],
   "source": [
    "# Utility function to read the data from csv file\n",
    "def _read_csv(filename):\n",
    "    return pd.read_csv(filename, delim_whitespace=True, header=None)\n",
    "\n",
    "# Utility function to load the load\n",
    "def load_signals(subset):\n",
    "    signals_data = []\n",
    "\n",
    "    for signal in SIGNALS:\n",
    "        filename = f'UCI_HAR_Dataset/{subset}/Inertial Signals/{signal}_{subset}.txt'\n",
    "        signals_data.append(\n",
    "            _read_csv(filename).as_matrix()\n",
    "        ) \n",
    "\n",
    "    # Transpose is used to change the dimensionality of the output,\n",
    "    # aggregating the signals by combination of sample/timestep.\n",
    "    # Resultant shape is (7352 train/2947 test samples, 128 timesteps, 9 signals)\n",
    "    return np.transpose(signals_data, (1, 2, 0))"
   ]
  },
  {
   "cell_type": "code",
   "execution_count": 7,
   "metadata": {},
   "outputs": [],
   "source": [
    "\n",
    "def load_y(subset):\n",
    "    \"\"\"\n",
    "    The objective that we are trying to predict is a integer, from 1 to 6,\n",
    "    that represents a human activity. We return a binary representation of \n",
    "    every sample objective as a 6 bits vector using One Hot Encoding\n",
    "    (https://pandas.pydata.org/pandas-docs/stable/generated/pandas.get_dummies.html)\n",
    "    \"\"\"\n",
    "    filename = f'UCI_HAR_Dataset/{subset}/y_{subset}.txt'\n",
    "    y = _read_csv(filename)[0]\n",
    "\n",
    "    return pd.get_dummies(y).as_matrix()"
   ]
  },
  {
   "cell_type": "code",
   "execution_count": 8,
   "metadata": {},
   "outputs": [],
   "source": [
    "def load_data():\n",
    "    \"\"\"\n",
    "    Obtain the dataset from multiple files.\n",
    "    Returns: X_train, X_test, y_train, y_test\n",
    "    \"\"\"\n",
    "    X_train, X_test = load_signals('train'), load_signals('test')\n",
    "    y_train, y_test = load_y('train'), load_y('test')\n",
    "\n",
    "    return X_train, X_test, y_train, y_test"
   ]
  },
  {
   "cell_type": "code",
   "execution_count": 1,
   "metadata": {},
   "outputs": [
    {
     "name": "stderr",
     "output_type": "stream",
     "text": [
      "[nltk_data] Downloading package stopwords to\n",
      "[nltk_data]     C:\\Users\\SUNNY\\AppData\\Roaming\\nltk_data...\n",
      "[nltk_data]   Unzipping corpora\\stopwords.zip.\n"
     ]
    },
    {
     "data": {
      "text/plain": [
       "True"
      ]
     },
     "execution_count": 1,
     "metadata": {},
     "output_type": "execute_result"
    }
   ],
   "source": [
    "import nltk\n",
    "nltk.download('stopwords')"
   ]
  },
  {
   "cell_type": "code",
   "execution_count": 14,
   "metadata": {},
   "outputs": [
    {
     "name": "stderr",
     "output_type": "stream",
     "text": [
      "UsageError: Line magic function `%tensorflow_version` not found.\n"
     ]
    }
   ],
   "source": [
    "%tensorflow_version 1.x"
   ]
  },
  {
   "cell_type": "code",
   "execution_count": 9,
   "metadata": {},
   "outputs": [
    {
     "data": {
      "text/plain": [
       "'1.15.0'"
      ]
     },
     "execution_count": 9,
     "metadata": {},
     "output_type": "execute_result"
    }
   ],
   "source": [
    "#%tensorflow_version 1.x\n",
    "import tensorflow as tf\n",
    "tf.__version__"
   ]
  },
  {
   "cell_type": "code",
   "execution_count": 10,
   "metadata": {},
   "outputs": [],
   "source": [
    "# Importing tensorflow\n",
    "np.random.seed(42)\n",
    "#import tensorflow as tf\n",
    "tf.set_random_seed(42)"
   ]
  },
  {
   "cell_type": "code",
   "execution_count": 11,
   "metadata": {},
   "outputs": [],
   "source": [
    "#tf.set_random_seed(\n",
    " #   seed\n",
    "#)"
   ]
  },
  {
   "cell_type": "code",
   "execution_count": 12,
   "metadata": {},
   "outputs": [],
   "source": [
    "# Configuring a session\n",
    "session_conf = tf.ConfigProto(\n",
    "                              intra_op_parallelism_threads=1,\n",
    "                              inter_op_parallelism_threads=1\n",
    "                              )"
   ]
  },
  {
   "cell_type": "code",
   "execution_count": 13,
   "metadata": {},
   "outputs": [],
   "source": [
    "#!pip install keras\n"
   ]
  },
  {
   "cell_type": "code",
   "execution_count": 14,
   "metadata": {},
   "outputs": [
    {
     "name": "stderr",
     "output_type": "stream",
     "text": [
      "Using TensorFlow backend.\n"
     ]
    }
   ],
   "source": [
    "# Import Keras\n",
    "from keras import backend as K\n",
    "sess = tf.Session(graph=tf.get_default_graph(), config=session_conf)\n",
    "K.set_session(sess)"
   ]
  },
  {
   "cell_type": "code",
   "execution_count": 15,
   "metadata": {},
   "outputs": [],
   "source": [
    "# Importing libraries\n",
    "from keras.models import Sequential\n",
    "from keras.layers import LSTM\n",
    "from keras.layers.core import Dense, Dropout"
   ]
  },
  {
   "cell_type": "code",
   "execution_count": 27,
   "metadata": {},
   "outputs": [],
   "source": [
    "from keras.layers import LSTM , BatchNormalization\n",
    "from keras.regularizers import L1L2"
   ]
  },
  {
   "cell_type": "code",
   "execution_count": 16,
   "metadata": {},
   "outputs": [],
   "source": [
    "# Initializing parameters\n",
    "epochs = 30\n",
    "batch_size = 16\n",
    "n_hidden = 32"
   ]
  },
  {
   "cell_type": "code",
   "execution_count": 17,
   "metadata": {},
   "outputs": [],
   "source": [
    "# Utility function to count the number of classes\n",
    "def _count_classes(y):\n",
    "    return len(set([tuple(category) for category in y]))"
   ]
  },
  {
   "cell_type": "code",
   "execution_count": 18,
   "metadata": {},
   "outputs": [
    {
     "name": "stderr",
     "output_type": "stream",
     "text": [
      "C:\\Users\\SUNNY\\Anaconda3\\lib\\site-packages\\ipykernel_launcher.py:12: FutureWarning: Method .as_matrix will be removed in a future version. Use .values instead.\n",
      "  if sys.path[0] == '':\n",
      "C:\\Users\\SUNNY\\Anaconda3\\lib\\site-packages\\ipykernel_launcher.py:11: FutureWarning: Method .as_matrix will be removed in a future version. Use .values instead.\n",
      "  # This is added back by InteractiveShellApp.init_path()\n"
     ]
    }
   ],
   "source": [
    "# Loading the train and test data\n",
    "X_train, X_test, Y_train, Y_test = load_data()"
   ]
  },
  {
   "cell_type": "code",
   "execution_count": 19,
   "metadata": {},
   "outputs": [
    {
     "name": "stdout",
     "output_type": "stream",
     "text": [
      "128\n",
      "9\n",
      "7352\n"
     ]
    }
   ],
   "source": [
    "timesteps = len(X_train[0])\n",
    "input_dim = len(X_train[0][0])\n",
    "n_classes = _count_classes(Y_train)\n",
    "\n",
    "print(timesteps)\n",
    "print(input_dim)\n",
    "print(len(X_train))"
   ]
  },
  {
   "cell_type": "code",
   "execution_count": 46,
   "metadata": {},
   "outputs": [],
   "source": [
    "def plot_train_cv_loss(trained_model, epochs, colors=['g']):\n",
    "    fig, ax = plt.subplots(1,1)    \n",
    "    ax.set_xlabel('epoch') \n",
    "    ax.set_ylabel('Categorical Crossentropy Loss')\n",
    "    x_axis_values = list(range(1,epochs+1))\n",
    "\n",
    "    validation_loss = trained_model.history['val_loss']\n",
    "    train_loss = trained_model.history['loss']   \n",
    "    \n",
    "    ax.plot(x_axis_values, validation_loss, 'g', label=\"Validation Loss\")\n",
    "    ax.plot(x_axis_values, train_loss, 'r', label=\"Train Loss\")\n",
    "    plt.legend()\n",
    "    plt.grid()\n",
    "    fig.canvas.draw()"
   ]
  },
  {
   "cell_type": "markdown",
   "metadata": {},
   "source": [
    "- Defining the Architecture of LSTM"
   ]
  },
  {
   "cell_type": "code",
   "execution_count": 91,
   "metadata": {},
   "outputs": [
    {
     "name": "stdout",
     "output_type": "stream",
     "text": [
      "_________________________________________________________________\n",
      "Layer (type)                 Output Shape              Param #   \n",
      "=================================================================\n",
      "lstm_3 (LSTM)                (None, 32)                5376      \n",
      "_________________________________________________________________\n",
      "dropout_3 (Dropout)          (None, 32)                0         \n",
      "_________________________________________________________________\n",
      "dense_3 (Dense)              (None, 6)                 198       \n",
      "=================================================================\n",
      "Total params: 5,574\n",
      "Trainable params: 5,574\n",
      "Non-trainable params: 0\n",
      "_________________________________________________________________\n"
     ]
    }
   ],
   "source": [
    "# Initiliazing the sequential model\n",
    "model = Sequential()\n",
    "# Configuring the parameters\n",
    "model.add(LSTM(n_hidden, input_shape=(timesteps, input_dim)))\n",
    "# Adding a dropout layer\n",
    "model.add(Dropout(0.5))\n",
    "# Adding a dense output layer with sigmoid activation\n",
    "model.add(Dense(n_classes, activation='sigmoid'))\n",
    "model.summary()"
   ]
  },
  {
   "cell_type": "code",
   "execution_count": 22,
   "metadata": {
    "collapsed": true
   },
   "outputs": [],
   "source": [
    "# Compiling the model\n",
    "model.compile(loss='categorical_crossentropy',\n",
    "              optimizer='rmsprop',\n",
    "              metrics=['accuracy'])"
   ]
  },
  {
   "cell_type": "code",
   "execution_count": 23,
   "metadata": {},
   "outputs": [
    {
     "name": "stdout",
     "output_type": "stream",
     "text": [
      "Train on 7352 samples, validate on 2947 samples\n",
      "Epoch 1/30\n",
      "7352/7352 [==============================] - 92s 13ms/step - loss: 1.3018 - acc: 0.4395 - val_loss: 1.1254 - val_acc: 0.4662\n",
      "Epoch 2/30\n",
      "7352/7352 [==============================] - 94s 13ms/step - loss: 0.9666 - acc: 0.5880 - val_loss: 0.9491 - val_acc: 0.5714\n",
      "Epoch 3/30\n",
      "7352/7352 [==============================] - 97s 13ms/step - loss: 0.7812 - acc: 0.6408 - val_loss: 0.8286 - val_acc: 0.5850\n",
      "Epoch 4/30\n",
      "7352/7352 [==============================] - 95s 13ms/step - loss: 0.6941 - acc: 0.6574 - val_loss: 0.7297 - val_acc: 0.6128\n",
      "Epoch 5/30\n",
      "7352/7352 [==============================] - 92s 13ms/step - loss: 0.6336 - acc: 0.6912 - val_loss: 0.7359 - val_acc: 0.6787\n",
      "Epoch 6/30\n",
      "7352/7352 [==============================] - 94s 13ms/step - loss: 0.5859 - acc: 0.7134 - val_loss: 0.7015 - val_acc: 0.6939\n",
      "Epoch 7/30\n",
      "7352/7352 [==============================] - 95s 13ms/step - loss: 0.5692 - acc: 0.7477 - val_loss: 0.5995 - val_acc: 0.7387\n",
      "Epoch 8/30\n",
      "7352/7352 [==============================] - 96s 13ms/step - loss: 0.4899 - acc: 0.7809 - val_loss: 0.5762 - val_acc: 0.7387\n",
      "Epoch 9/30\n",
      "7352/7352 [==============================] - 90s 12ms/step - loss: 0.4482 - acc: 0.7886 - val_loss: 0.7413 - val_acc: 0.7126\n",
      "Epoch 10/30\n",
      "7352/7352 [==============================] - 90s 12ms/step - loss: 0.4132 - acc: 0.8077 - val_loss: 0.5048 - val_acc: 0.7513\n",
      "Epoch 11/30\n",
      "7352/7352 [==============================] - 89s 12ms/step - loss: 0.3985 - acc: 0.8274 - val_loss: 0.5234 - val_acc: 0.7452\n",
      "Epoch 12/30\n",
      "7352/7352 [==============================] - 91s 12ms/step - loss: 0.3378 - acc: 0.8638 - val_loss: 0.4114 - val_acc: 0.8833\n",
      "Epoch 13/30\n",
      "7352/7352 [==============================] - 91s 12ms/step - loss: 0.2947 - acc: 0.9051 - val_loss: 0.4386 - val_acc: 0.8731\n",
      "Epoch 14/30\n",
      "7352/7352 [==============================] - 90s 12ms/step - loss: 0.2448 - acc: 0.9291 - val_loss: 0.3768 - val_acc: 0.8921\n",
      "Epoch 15/30\n",
      "7352/7352 [==============================] - 91s 12ms/step - loss: 0.2157 - acc: 0.9331 - val_loss: 0.4441 - val_acc: 0.8931\n",
      "Epoch 16/30\n",
      "7352/7352 [==============================] - 90s 12ms/step - loss: 0.2053 - acc: 0.9366 - val_loss: 0.4162 - val_acc: 0.8968\n",
      "Epoch 17/30\n",
      "7352/7352 [==============================] - 89s 12ms/step - loss: 0.2028 - acc: 0.9404 - val_loss: 0.4538 - val_acc: 0.8962\n",
      "Epoch 18/30\n",
      "7352/7352 [==============================] - 93s 13ms/step - loss: 0.1911 - acc: 0.9419 - val_loss: 0.3964 - val_acc: 0.8999\n",
      "Epoch 19/30\n",
      "7352/7352 [==============================] - 96s 13ms/step - loss: 0.1912 - acc: 0.9407 - val_loss: 0.3165 - val_acc: 0.9030\n",
      "Epoch 20/30\n",
      "7352/7352 [==============================] - 96s 13ms/step - loss: 0.1732 - acc: 0.9446 - val_loss: 0.4546 - val_acc: 0.8904\n",
      "Epoch 21/30\n",
      "7352/7352 [==============================] - 94s 13ms/step - loss: 0.1782 - acc: 0.9444 - val_loss: 0.3346 - val_acc: 0.9063\n",
      "Epoch 22/30\n",
      "7352/7352 [==============================] - 95s 13ms/step - loss: 0.1812 - acc: 0.9418 - val_loss: 0.8164 - val_acc: 0.8582\n",
      "Epoch 23/30\n",
      "7352/7352 [==============================] - 95s 13ms/step - loss: 0.1824 - acc: 0.9426 - val_loss: 0.4240 - val_acc: 0.9036\n",
      "Epoch 24/30\n",
      "7352/7352 [==============================] - 94s 13ms/step - loss: 0.1726 - acc: 0.9429 - val_loss: 0.4067 - val_acc: 0.9148\n",
      "Epoch 25/30\n",
      "7352/7352 [==============================] - 96s 13ms/step - loss: 0.1737 - acc: 0.9411 - val_loss: 0.3396 - val_acc: 0.9074\n",
      "Epoch 26/30\n",
      "7352/7352 [==============================] - 96s 13ms/step - loss: 0.1650 - acc: 0.9461 - val_loss: 0.3806 - val_acc: 0.9019\n",
      "Epoch 27/30\n",
      "7352/7352 [==============================] - 89s 12ms/step - loss: 0.1925 - acc: 0.9415 - val_loss: 0.6464 - val_acc: 0.8850\n",
      "Epoch 28/30\n",
      "7352/7352 [==============================] - 91s 12ms/step - loss: 0.1965 - acc: 0.9425 - val_loss: 0.3363 - val_acc: 0.9203\n",
      "Epoch 29/30\n",
      "7352/7352 [==============================] - 92s 12ms/step - loss: 0.1889 - acc: 0.9431 - val_loss: 0.3737 - val_acc: 0.9158\n",
      "Epoch 30/30\n",
      "7352/7352 [==============================] - 95s 13ms/step - loss: 0.1945 - acc: 0.9414 - val_loss: 0.3088 - val_acc: 0.9097\n"
     ]
    },
    {
     "data": {
      "text/plain": [
       "<keras.callbacks.History at 0x29b5ee36a20>"
      ]
     },
     "execution_count": 23,
     "metadata": {},
     "output_type": "execute_result"
    }
   ],
   "source": [
    "# Training the model\n",
    "model.fit(X_train,\n",
    "          Y_train,\n",
    "          batch_size=batch_size,\n",
    "          validation_data=(X_test, Y_test),\n",
    "          epochs=epochs)"
   ]
  },
  {
   "cell_type": "code",
   "execution_count": 24,
   "metadata": {},
   "outputs": [
    {
     "name": "stdout",
     "output_type": "stream",
     "text": [
      "Pred                LAYING  SITTING  STANDING  WALKING  WALKING_DOWNSTAIRS  \\\n",
      "True                                                                         \n",
      "LAYING                 512        0        25        0                   0   \n",
      "SITTING                  3      410        75        0                   0   \n",
      "STANDING                 0       87       445        0                   0   \n",
      "WALKING                  0        0         0      481                   2   \n",
      "WALKING_DOWNSTAIRS       0        0         0        0                 382   \n",
      "WALKING_UPSTAIRS         0        0         0        2                  18   \n",
      "\n",
      "Pred                WALKING_UPSTAIRS  \n",
      "True                                  \n",
      "LAYING                             0  \n",
      "SITTING                            3  \n",
      "STANDING                           0  \n",
      "WALKING                           13  \n",
      "WALKING_DOWNSTAIRS                38  \n",
      "WALKING_UPSTAIRS                 451  \n"
     ]
    }
   ],
   "source": [
    "# Confusion Matrix\n",
    "print(confusion_matrix(Y_test, model.predict(X_test)))"
   ]
  },
  {
   "cell_type": "code",
   "execution_count": 27,
   "metadata": {},
   "outputs": [
    {
     "name": "stdout",
     "output_type": "stream",
     "text": [
      "2947/2947 [==============================] - 4s 2ms/step\n"
     ]
    }
   ],
   "source": [
    "score = model.evaluate(X_test, Y_test)"
   ]
  },
  {
   "cell_type": "code",
   "execution_count": 28,
   "metadata": {},
   "outputs": [
    {
     "data": {
      "text/plain": [
       "[0.3087582236972612, 0.9097387173396675]"
      ]
     },
     "execution_count": 28,
     "metadata": {},
     "output_type": "execute_result"
    }
   ],
   "source": [
    "score"
   ]
  },
  {
   "cell_type": "markdown",
   "metadata": {},
   "source": [
    "- With a simple 2 layer architecture we got 90.09% accuracy and a loss of 0.30\n",
    "- We can further imporve the performace with Hyperparameter tuning"
   ]
  },
  {
   "cell_type": "markdown",
   "metadata": {},
   "source": [
    "## Trail 1"
   ]
  },
  {
   "cell_type": "code",
   "execution_count": 47,
   "metadata": {},
   "outputs": [],
   "source": [
    "n_epochs = 30\n",
    "n_batch = 16\n",
    "n_classes = _count_classes(Y_train)\n",
    "\n",
    "# Bias regularizer value - we will use elasticnet\n",
    "reg = L1L2(0.01, 0.01)"
   ]
  },
  {
   "cell_type": "code",
   "execution_count": 54,
   "metadata": {},
   "outputs": [
    {
     "name": "stdout",
     "output_type": "stream",
     "text": [
      "WARNING:tensorflow:Large dropout rate: 0.7 (>0.5). In TensorFlow 2.x, dropout() uses dropout rate instead of keep_prob. Please ensure that this is intended.\n",
      "Model Summary: \n",
      "Model: \"sequential_7\"\n",
      "_________________________________________________________________\n",
      "Layer (type)                 Output Shape              Param #   \n",
      "=================================================================\n",
      "lstm_10 (LSTM)               (None, 128, 64)           18944     \n",
      "_________________________________________________________________\n",
      "batch_normalization_5 (Batch (None, 128, 64)           256       \n",
      "_________________________________________________________________\n",
      "dropout_9 (Dropout)          (None, 128, 64)           0         \n",
      "_________________________________________________________________\n",
      "lstm_11 (LSTM)               (None, 48)                21696     \n",
      "_________________________________________________________________\n",
      "dropout_10 (Dropout)         (None, 48)                0         \n",
      "_________________________________________________________________\n",
      "dense_5 (Dense)              (None, 6)                 294       \n",
      "=================================================================\n",
      "Total params: 41,190\n",
      "Trainable params: 41,062\n",
      "Non-trainable params: 128\n",
      "_________________________________________________________________\n"
     ]
    }
   ],
   "source": [
    "model = Sequential()\n",
    "model.add(LSTM(64, input_shape=(timesteps, input_dim), return_sequences=True, bias_regularizer=reg))\n",
    "model.add(BatchNormalization())\n",
    "model.add(Dropout(0.70))\n",
    "model.add(LSTM(48))\n",
    "model.add(Dropout(0.70))\n",
    "model.add(Dense(n_classes, activation='sigmoid'))\n",
    "print(\"Model Summary: \")\n",
    "model.summary()"
   ]
  },
  {
   "cell_type": "code",
   "execution_count": 31,
   "metadata": {},
   "outputs": [],
   "source": [
    "\n",
    "model.compile(loss='categorical_crossentropy',\n",
    "          optimizer='adam',\n",
    "          metrics=['accuracy'])"
   ]
  },
  {
   "cell_type": "code",
   "execution_count": null,
   "metadata": {},
   "outputs": [],
   "source": [
    "import warnings\n",
    "warnings.filterwarnings(\"ignore\")\n",
    "warnings.simplefilter(action='ignore', category=FutureWarning)\n",
    "warnings.simplefilter(action='ignore', category=UserWarning)\n",
    "\n",
    "import itertools\n",
    "from datetime import datetime\n"
   ]
  },
  {
   "cell_type": "code",
   "execution_count": 36,
   "metadata": {},
   "outputs": [
    {
     "name": "stdout",
     "output_type": "stream",
     "text": [
      "WARNING:tensorflow:From C:\\Users\\SUNNY\\Anaconda3\\lib\\site-packages\\tensorflow_core\\python\\ops\\math_grad.py:1424: where (from tensorflow.python.ops.array_ops) is deprecated and will be removed in a future version.\n",
      "Instructions for updating:\n",
      "Use tf.where in 2.0, which has the same broadcast rule as np.where\n",
      "WARNING:tensorflow:From C:\\Users\\SUNNY\\Anaconda3\\lib\\site-packages\\keras\\backend\\tensorflow_backend.py:422: The name tf.global_variables is deprecated. Please use tf.compat.v1.global_variables instead.\n",
      "\n",
      "Train on 7352 samples, validate on 2947 samples\n",
      "Epoch 1/30\n",
      "7352/7352 [==============================] - 77s 10ms/step - loss: 2.0127 - accuracy: 0.5732 - val_loss: 1.5402 - val_accuracy: 0.5599\n",
      "Epoch 2/30\n",
      "7352/7352 [==============================] - 73s 10ms/step - loss: 1.1514 - accuracy: 0.6786 - val_loss: 0.8725 - val_accuracy: 0.7180\n",
      "Epoch 3/30\n",
      "7352/7352 [==============================] - 72s 10ms/step - loss: 0.7743 - accuracy: 0.7205 - val_loss: 0.6062 - val_accuracy: 0.7984\n",
      "Epoch 4/30\n",
      "7352/7352 [==============================] - 72s 10ms/step - loss: 0.5762 - accuracy: 0.7930 - val_loss: 0.6264 - val_accuracy: 0.7631\n",
      "Epoch 5/30\n",
      "7352/7352 [==============================] - 73s 10ms/step - loss: 0.4387 - accuracy: 0.8607 - val_loss: 0.2864 - val_accuracy: 0.9080\n",
      "Epoch 6/30\n",
      "7352/7352 [==============================] - 72s 10ms/step - loss: 0.3510 - accuracy: 0.8879 - val_loss: 0.2474 - val_accuracy: 0.9043\n",
      "Epoch 7/30\n",
      "7352/7352 [==============================] - 72s 10ms/step - loss: 0.2886 - accuracy: 0.9127 - val_loss: 0.3182 - val_accuracy: 0.9070\n",
      "Epoch 8/30\n",
      "7352/7352 [==============================] - 75s 10ms/step - loss: 0.2841 - accuracy: 0.9125 - val_loss: 0.2696 - val_accuracy: 0.8982\n",
      "Epoch 9/30\n",
      "7352/7352 [==============================] - 76s 10ms/step - loss: 0.2409 - accuracy: 0.9232 - val_loss: 0.2864 - val_accuracy: 0.9135\n",
      "Epoch 10/30\n",
      "7352/7352 [==============================] - 72s 10ms/step - loss: 0.2527 - accuracy: 0.9116 - val_loss: 0.3375 - val_accuracy: 0.8985\n",
      "Epoch 11/30\n",
      "7352/7352 [==============================] - 77s 11ms/step - loss: 0.2870 - accuracy: 0.9071 - val_loss: 0.5668 - val_accuracy: 0.8487\n",
      "Epoch 12/30\n",
      "7352/7352 [==============================] - 72s 10ms/step - loss: 0.2314 - accuracy: 0.9279 - val_loss: 0.2265 - val_accuracy: 0.9158\n",
      "Epoch 13/30\n",
      "7352/7352 [==============================] - 73s 10ms/step - loss: 0.2064 - accuracy: 0.9335 - val_loss: 0.2189 - val_accuracy: 0.9179\n",
      "Epoch 14/30\n",
      "7352/7352 [==============================] - 73s 10ms/step - loss: 0.1842 - accuracy: 0.9399 - val_loss: 0.2050 - val_accuracy: 0.9179\n",
      "Epoch 15/30\n",
      "7352/7352 [==============================] - 72s 10ms/step - loss: 0.2594 - accuracy: 0.9169 - val_loss: 0.2595 - val_accuracy: 0.9148\n",
      "Epoch 16/30\n",
      "7352/7352 [==============================] - 72s 10ms/step - loss: 0.2007 - accuracy: 0.9332 - val_loss: 0.2085 - val_accuracy: 0.9281\n",
      "Epoch 17/30\n",
      "7352/7352 [==============================] - 72s 10ms/step - loss: 0.1898 - accuracy: 0.9342 - val_loss: 0.3413 - val_accuracy: 0.8907\n",
      "Epoch 18/30\n",
      "7352/7352 [==============================] - 73s 10ms/step - loss: 0.1999 - accuracy: 0.9350 - val_loss: 0.3217 - val_accuracy: 0.9060\n",
      "Epoch 19/30\n",
      "7352/7352 [==============================] - 72s 10ms/step - loss: 0.2155 - accuracy: 0.9309 - val_loss: 0.2945 - val_accuracy: 0.9237\n",
      "Epoch 20/30\n",
      "7352/7352 [==============================] - 73s 10ms/step - loss: 0.1959 - accuracy: 0.9411 - val_loss: 0.2360 - val_accuracy: 0.9277\n",
      "Epoch 21/30\n",
      "7352/7352 [==============================] - 72s 10ms/step - loss: 0.1962 - accuracy: 0.9332 - val_loss: 0.3192 - val_accuracy: 0.9104\n",
      "Epoch 22/30\n",
      "7352/7352 [==============================] - 72s 10ms/step - loss: 0.2436 - accuracy: 0.9230 - val_loss: 0.2380 - val_accuracy: 0.9213\n",
      "Epoch 23/30\n",
      "7352/7352 [==============================] - 72s 10ms/step - loss: 0.1918 - accuracy: 0.9385 - val_loss: 0.2820 - val_accuracy: 0.9094\n",
      "Epoch 24/30\n",
      "7352/7352 [==============================] - 73s 10ms/step - loss: 0.1861 - accuracy: 0.9317 - val_loss: 0.2709 - val_accuracy: 0.9223\n",
      "Epoch 25/30\n",
      "7352/7352 [==============================] - 75s 10ms/step - loss: 0.1757 - accuracy: 0.9389 - val_loss: 0.2534 - val_accuracy: 0.9223\n",
      "Epoch 26/30\n",
      "7352/7352 [==============================] - 77s 10ms/step - loss: 0.1679 - accuracy: 0.9396 - val_loss: 0.2712 - val_accuracy: 0.9158\n",
      "Epoch 27/30\n",
      "7352/7352 [==============================] - 72s 10ms/step - loss: 0.1656 - accuracy: 0.9400 - val_loss: 0.2264 - val_accuracy: 0.9270\n",
      "Epoch 28/30\n",
      "7352/7352 [==============================] - 72s 10ms/step - loss: 0.1681 - accuracy: 0.9412 - val_loss: 0.3004 - val_accuracy: 0.9223\n",
      "Epoch 29/30\n",
      "7352/7352 [==============================] - 72s 10ms/step - loss: 0.1569 - accuracy: 0.9445 - val_loss: 0.3930 - val_accuracy: 0.9121\n",
      "Epoch 30/30\n",
      "7352/7352 [==============================] - 74s 10ms/step - loss: 0.2224 - accuracy: 0.9332 - val_loss: 0.4041 - val_accuracy: 0.8928\n",
      "\n",
      " Time Taken:  0:36:35.169028\n"
     ]
    }
   ],
   "source": [
    "start = datetime.now()\n",
    "\n",
    "# Training the model\n",
    "trained_model  = model.fit(X_train,\n",
    "                           Y_train,\n",
    "                           batch_size=n_batch,\n",
    "                           validation_data=(X_test, Y_test),\n",
    "                           epochs=n_epochs)\n",
    "\n",
    "print(\"\\n Time Taken: \",datetime.now() - start)"
   ]
  },
  {
   "cell_type": "code",
   "execution_count": 38,
   "metadata": {},
   "outputs": [],
   "source": [
    "import matplotlib.pyplot as plt\n",
    "plt.rcParams[\"font.family\"] = 'DejaVu Sans'\n",
    "import seaborn as sns\n",
    "\n",
    "# To be able to save images on server\n",
    "import matplotlib\n",
    "matplotlib.use('Agg')\n",
    "from matplotlib import pyplot\n"
   ]
  },
  {
   "cell_type": "code",
   "execution_count": 39,
   "metadata": {},
   "outputs": [
    {
     "data": {
      "image/png": "[encoded data removed]",
      "text/plain": [
       "<Figure size 432x288 with 1 Axes>"
      ]
     },
     "metadata": {
      "needs_background": "light"
     },
     "output_type": "display_data"
    }
   ],
   "source": [
    "plot_train_cv_loss(trained_model, n_epochs)"
   ]
  },
  {
   "cell_type": "code",
   "execution_count": 43,
   "metadata": {},
   "outputs": [
    {
     "name": "stdout",
     "output_type": "stream",
     "text": [
      "Pred                LAYING  SITTING  STANDING  WALKING  WALKING_DOWNSTAIRS  \\\n",
      "True                                                                         \n",
      "LAYING                 537        0         0        0                   0   \n",
      "SITTING                  0      319       151        0                   0   \n",
      "STANDING                 0       44       487        0                   0   \n",
      "WALKING                  0        0         0      485                   6   \n",
      "WALKING_DOWNSTAIRS       0        0         0       12                 376   \n",
      "WALKING_UPSTAIRS         0        7         1       28                   8   \n",
      "\n",
      "Pred                WALKING_UPSTAIRS  \n",
      "True                                  \n",
      "LAYING                             0  \n",
      "SITTING                           21  \n",
      "STANDING                           1  \n",
      "WALKING                            5  \n",
      "WALKING_DOWNSTAIRS                32  \n",
      "WALKING_UPSTAIRS                 427  \n"
     ]
    }
   ],
   "source": [
    "# Confusion Matrix\n",
    "print(confusion_matrix(Y_test, model.predict(X_test)))"
   ]
  },
  {
   "cell_type": "code",
   "execution_count": 44,
   "metadata": {},
   "outputs": [
    {
     "name": "stdout",
     "output_type": "stream",
     "text": [
      "2947/2947 [==============================] - 5s 2ms/step\n"
     ]
    }
   ],
   "source": [
    "score = model.evaluate(X_test, Y_test)"
   ]
  },
  {
   "cell_type": "code",
   "execution_count": 45,
   "metadata": {},
   "outputs": [
    {
     "data": {
      "text/plain": [
       "[0.4040787009415503, 0.8927723169326782]"
      ]
     },
     "execution_count": 45,
     "metadata": {},
     "output_type": "execute_result"
    }
   ],
   "source": [
    "score"
   ]
  },
  {
   "cell_type": "code",
   "execution_count": 1,
   "metadata": {},
   "outputs": [],
   "source": [
    "#here i have build a 2 LSTM layes, 1 batch normalization and  dense layer  with adms optiiser and sigmoid activation\n",
    "#the artitechure is 4 layers and it performed well \n",
    "#the performance of the model is 89.27 \n",
    "#now lets try another model"
   ]
  },
  {
   "cell_type": "markdown",
   "metadata": {},
   "source": [
    "## Trail 2"
   ]
  },
  {
   "cell_type": "code",
   "execution_count": 86,
   "metadata": {},
   "outputs": [],
   "source": [
    "n_epochs = 16\n",
    "n_batch = 16\n",
    "n_classes = _count_classes(Y_train)\n"
   ]
  },
  {
   "cell_type": "code",
   "execution_count": 87,
   "metadata": {},
   "outputs": [
    {
     "name": "stdout",
     "output_type": "stream",
     "text": [
      "Model Summary: \n",
      "Model: \"sequential_11\"\n",
      "_________________________________________________________________\n",
      "Layer (type)                 Output Shape              Param #   \n",
      "=================================================================\n",
      "lstm_17 (LSTM)               (None, 64)                18944     \n",
      "_________________________________________________________________\n",
      "dropout_16 (Dropout)         (None, 64)                0         \n",
      "_________________________________________________________________\n",
      "dense_9 (Dense)              (None, 6)                 390       \n",
      "=================================================================\n",
      "Total params: 19,334\n",
      "Trainable params: 19,334\n",
      "Non-trainable params: 0\n",
      "_________________________________________________________________\n"
     ]
    }
   ],
   "source": [
    "model2 = Sequential()\n",
    "model2.add(LSTM(64, input_shape=(timesteps, input_dim),))\n",
    "model2.add(Dropout(0.5))\n",
    "model2.add(Dense(n_classes, activation='softmax'))\n",
    "print(\"Model Summary: \")\n",
    "model2.summary()"
   ]
  },
  {
   "cell_type": "code",
   "execution_count": 89,
   "metadata": {},
   "outputs": [],
   "source": [
    "model2.compile(loss='binary_crossentropy',\n",
    "          optimizer='Nadam',\n",
    "          metrics=['accuracy'])"
   ]
  },
  {
   "cell_type": "code",
   "execution_count": 90,
   "metadata": {},
   "outputs": [
    {
     "name": "stdout",
     "output_type": "stream",
     "text": [
      "Train on 7352 samples, validate on 2947 samples\n",
      "Epoch 1/16\n",
      "7352/7352 [==============================] - 42s 6ms/step - loss: 0.2817 - accuracy: 0.8803 - val_loss: 0.3240 - val_accuracy: 0.8506\n",
      "Epoch 2/16\n",
      "7352/7352 [==============================] - 38s 5ms/step - loss: 0.2606 - accuracy: 0.8863 - val_loss: 0.2132 - val_accuracy: 0.8986\n",
      "Epoch 3/16\n",
      "7352/7352 [==============================] - 40s 5ms/step - loss: 0.1796 - accuracy: 0.9222 - val_loss: 0.1636 - val_accuracy: 0.9384\n",
      "Epoch 4/16\n",
      "7352/7352 [==============================] - 39s 5ms/step - loss: 0.1627 - accuracy: 0.9361 - val_loss: 0.1660 - val_accuracy: 0.9303\n",
      "Epoch 5/16\n",
      "7352/7352 [==============================] - 38s 5ms/step - loss: 0.1162 - accuracy: 0.9580 - val_loss: 0.1120 - val_accuracy: 0.9541\n",
      "Epoch 6/16\n",
      "7352/7352 [==============================] - 38s 5ms/step - loss: 0.0924 - accuracy: 0.9682 - val_loss: 0.2662 - val_accuracy: 0.9009\n",
      "Epoch 7/16\n",
      "7352/7352 [==============================] - 36s 5ms/step - loss: 0.1026 - accuracy: 0.9627 - val_loss: 0.1017 - val_accuracy: 0.9620\n",
      "Epoch 8/16\n",
      "7352/7352 [==============================] - 39s 5ms/step - loss: 0.0779 - accuracy: 0.9746 - val_loss: 0.0887 - val_accuracy: 0.9675\n",
      "Epoch 9/16\n",
      "7352/7352 [==============================] - 39s 5ms/step - loss: 0.0641 - accuracy: 0.9766 - val_loss: 0.1196 - val_accuracy: 0.9624\n",
      "Epoch 10/16\n",
      "7352/7352 [==============================] - 37s 5ms/step - loss: 0.0598 - accuracy: 0.9780 - val_loss: 0.0945 - val_accuracy: 0.9704\n",
      "Epoch 11/16\n",
      "7352/7352 [==============================] - 38s 5ms/step - loss: 0.0466 - accuracy: 0.9818 - val_loss: 0.1034 - val_accuracy: 0.9627\n",
      "Epoch 12/16\n",
      "7352/7352 [==============================] - 39s 5ms/step - loss: 0.0597 - accuracy: 0.9773 - val_loss: 0.0791 - val_accuracy: 0.9699\n",
      "Epoch 13/16\n",
      "7352/7352 [==============================] - 38s 5ms/step - loss: 0.0621 - accuracy: 0.9746 - val_loss: 0.0932 - val_accuracy: 0.9668\n",
      "Epoch 14/16\n",
      "7352/7352 [==============================] - 37s 5ms/step - loss: 0.0462 - accuracy: 0.9810 - val_loss: 0.1109 - val_accuracy: 0.9687\n",
      "Epoch 15/16\n",
      "7352/7352 [==============================] - 37s 5ms/step - loss: 0.0572 - accuracy: 0.9783 - val_loss: 0.1114 - val_accuracy: 0.9630\n",
      "Epoch 16/16\n",
      "7352/7352 [==============================] - 38s 5ms/step - loss: 0.0441 - accuracy: 0.9830 - val_loss: 0.0969 - val_accuracy: 0.9656\n",
      "\n",
      " Time Taken:  0:10:15.143689\n"
     ]
    }
   ],
   "source": [
    "\n",
    "start = datetime.now()\n",
    "\n",
    "# Training the model\n",
    "trained_model  = model2.fit(X_train,\n",
    "                           Y_train,\n",
    "                           batch_size=n_batch,\n",
    "                           validation_data=(X_test, Y_test),\n",
    "                           epochs=n_epochs)\n",
    "\n",
    "print(\"\\n Time Taken: \",datetime.now() - start)"
   ]
  },
  {
   "cell_type": "code",
   "execution_count": 91,
   "metadata": {},
   "outputs": [
    {
     "data": {
      "image/png": "[encoded data removed]",
      "text/plain": [
       "<Figure size 432x288 with 1 Axes>"
      ]
     },
     "metadata": {
      "needs_background": "light"
     },
     "output_type": "display_data"
    }
   ],
   "source": [
    "plot_train_cv_loss(trained_model, n_epochs)"
   ]
  },
  {
   "cell_type": "code",
   "execution_count": 92,
   "metadata": {},
   "outputs": [
    {
     "name": "stdout",
     "output_type": "stream",
     "text": [
      "Pred                LAYING  SITTING  STANDING  WALKING  WALKING_DOWNSTAIRS  \\\n",
      "True                                                                         \n",
      "LAYING                 537        0         0        0                   0   \n",
      "SITTING                  0      301       190        0                   0   \n",
      "STANDING                 0       37       494        0                   0   \n",
      "WALKING                  0        0         0      474                  15   \n",
      "WALKING_DOWNSTAIRS       0        0         0        8                 379   \n",
      "WALKING_UPSTAIRS         0        0         1       14                   0   \n",
      "\n",
      "Pred                WALKING_UPSTAIRS  \n",
      "True                                  \n",
      "LAYING                             0  \n",
      "SITTING                            0  \n",
      "STANDING                           1  \n",
      "WALKING                            7  \n",
      "WALKING_DOWNSTAIRS                33  \n",
      "WALKING_UPSTAIRS                 456  \n"
     ]
    }
   ],
   "source": [
    "# Confusion Matrix\n",
    "print(confusion_matrix(Y_test, model2.predict(X_test)))"
   ]
  },
  {
   "cell_type": "code",
   "execution_count": 93,
   "metadata": {},
   "outputs": [
    {
     "name": "stdout",
     "output_type": "stream",
     "text": [
      "2947/2947 [==============================] - 2s 721us/step\n"
     ]
    }
   ],
   "source": [
    "score = model2.evaluate(X_test, Y_test)"
   ]
  },
  {
   "cell_type": "code",
   "execution_count": 94,
   "metadata": {},
   "outputs": [
    {
     "data": {
      "text/plain": [
       "[0.09692795821130665, 0.9655581116676331]"
      ]
     },
     "execution_count": 94,
     "metadata": {},
     "output_type": "execute_result"
    }
   ],
   "source": [
    "score"
   ]
  },
  {
   "cell_type": "code",
   "execution_count": 2,
   "metadata": {},
   "outputs": [],
   "source": [
    "# now lets try the same 2layerd artictechure with different optimizer\n",
    "#now i had taken the LSTM layey with 64 neurons with softmax activation and nadan optimiser the models works very well\n",
    "#it has given the results of 96.55 accuracy of the test "
   ]
  },
  {
   "cell_type": "markdown",
   "metadata": {},
   "source": [
    "## Trail 3"
   ]
  },
  {
   "cell_type": "code",
   "execution_count": 95,
   "metadata": {},
   "outputs": [],
   "source": [
    "n_epochs = 13\n",
    "n_batch = 16\n",
    "n_classes = _count_classes(Y_train)\n"
   ]
  },
  {
   "cell_type": "code",
   "execution_count": 97,
   "metadata": {},
   "outputs": [
    {
     "name": "stdout",
     "output_type": "stream",
     "text": [
      "Model Summary: \n",
      "Model: \"sequential_13\"\n",
      "_________________________________________________________________\n",
      "Layer (type)                 Output Shape              Param #   \n",
      "=================================================================\n",
      "lstm_19 (LSTM)               (None, 128, 64)           18944     \n",
      "_________________________________________________________________\n",
      "dropout_17 (Dropout)         (None, 128, 64)           0         \n",
      "_________________________________________________________________\n",
      "lstm_20 (LSTM)               (None, 32)                12416     \n",
      "_________________________________________________________________\n",
      "dropout_18 (Dropout)         (None, 32)                0         \n",
      "_________________________________________________________________\n",
      "dense_10 (Dense)             (None, 6)                 198       \n",
      "=================================================================\n",
      "Total params: 31,558\n",
      "Trainable params: 31,558\n",
      "Non-trainable params: 0\n",
      "_________________________________________________________________\n"
     ]
    }
   ],
   "source": [
    "model3 = Sequential()\n",
    "model3.add(LSTM(64,input_shape=(timesteps, input_dim),return_sequences=True))\n",
    "model3.add(Dropout(0.7))\n",
    "model3.add(LSTM(32))\n",
    "model3.add(Dropout(0.7))\n",
    "model3.add(Dense(n_classes, activation='softmax'))\n",
    "print(\"Model Summary: \")\n",
    "model3.summary()"
   ]
  },
  {
   "cell_type": "code",
   "execution_count": 98,
   "metadata": {},
   "outputs": [],
   "source": [
    "model3.compile(loss='binary_crossentropy',\n",
    "          optimizer='Adam',\n",
    "          metrics=['accuracy'])"
   ]
  },
  {
   "cell_type": "code",
   "execution_count": 99,
   "metadata": {},
   "outputs": [
    {
     "name": "stdout",
     "output_type": "stream",
     "text": [
      "Train on 7352 samples, validate on 2947 samples\n",
      "Epoch 1/13\n",
      "7352/7352 [==============================] - 72s 10ms/step - loss: 0.3091 - accuracy: 0.8756 - val_loss: 0.2432 - val_accuracy: 0.8895\n",
      "Epoch 2/13\n",
      "7352/7352 [==============================] - 72s 10ms/step - loss: 0.2118 - accuracy: 0.9122 - val_loss: 0.2528 - val_accuracy: 0.8897\n",
      "Epoch 3/13\n",
      "7352/7352 [==============================] - 67s 9ms/step - loss: 0.1890 - accuracy: 0.9225 - val_loss: 0.2276 - val_accuracy: 0.9047\n",
      "Epoch 4/13\n",
      "7352/7352 [==============================] - 66s 9ms/step - loss: 0.1461 - accuracy: 0.9458 - val_loss: 0.1245 - val_accuracy: 0.9582\n",
      "Epoch 5/13\n",
      "7352/7352 [==============================] - 66s 9ms/step - loss: 0.1337 - accuracy: 0.9536 - val_loss: 0.1282 - val_accuracy: 0.9549\n",
      "Epoch 6/13\n",
      "7352/7352 [==============================] - 68s 9ms/step - loss: 0.1132 - accuracy: 0.9623 - val_loss: 0.0878 - val_accuracy: 0.9659\n",
      "Epoch 7/13\n",
      "7352/7352 [==============================] - 68s 9ms/step - loss: 0.1350 - accuracy: 0.9524 - val_loss: 0.1349 - val_accuracy: 0.9511\n",
      "Epoch 8/13\n",
      "7352/7352 [==============================] - 67s 9ms/step - loss: 0.0917 - accuracy: 0.9718 - val_loss: 0.0974 - val_accuracy: 0.9670\n",
      "Epoch 9/13\n",
      "7352/7352 [==============================] - 69s 9ms/step - loss: 0.0813 - accuracy: 0.9743 - val_loss: 0.1261 - val_accuracy: 0.9663\n",
      "Epoch 10/13\n",
      "7352/7352 [==============================] - 64s 9ms/step - loss: 0.0843 - accuracy: 0.9745 - val_loss: 0.1672 - val_accuracy: 0.9569\n",
      "Epoch 11/13\n",
      "7352/7352 [==============================] - 69s 9ms/step - loss: 0.0778 - accuracy: 0.9735 - val_loss: 0.0979 - val_accuracy: 0.9686\n",
      "Epoch 12/13\n",
      "7352/7352 [==============================] - 67s 9ms/step - loss: 0.0837 - accuracy: 0.9733 - val_loss: 0.1256 - val_accuracy: 0.9665\n",
      "Epoch 13/13\n",
      "7352/7352 [==============================] - 67s 9ms/step - loss: 0.0695 - accuracy: 0.9769 - val_loss: 0.0976 - val_accuracy: 0.9695\n",
      "\n",
      " Time Taken:  0:14:45.449388\n"
     ]
    }
   ],
   "source": [
    "\n",
    "start = datetime.now()\n",
    "\n",
    "# Training the model\n",
    "trained_model  = model3.fit(X_train,\n",
    "                           Y_train,\n",
    "                           batch_size=n_batch,\n",
    "                           validation_data=(X_test, Y_test),\n",
    "                           epochs=n_epochs)\n",
    "\n",
    "print(\"\\n Time Taken: \",datetime.now() - start)"
   ]
  },
  {
   "cell_type": "code",
   "execution_count": 100,
   "metadata": {},
   "outputs": [
    {
     "data": {
      "image/png": "[encoded data removed]",
      "text/plain": [
       "<Figure size 432x288 with 1 Axes>"
      ]
     },
     "metadata": {
      "needs_background": "light"
     },
     "output_type": "display_data"
    }
   ],
   "source": [
    "plot_train_cv_loss(trained_model, n_epochs)"
   ]
  },
  {
   "cell_type": "code",
   "execution_count": 101,
   "metadata": {},
   "outputs": [
    {
     "name": "stdout",
     "output_type": "stream",
     "text": [
      "Pred                LAYING  SITTING  STANDING  WALKING  WALKING_DOWNSTAIRS  \\\n",
      "True                                                                         \n",
      "LAYING                 537        0         0        0                   0   \n",
      "SITTING                  0      365       116        0                   0   \n",
      "STANDING                 0       61       470        1                   0   \n",
      "WALKING                  1        0         1      440                   7   \n",
      "WALKING_DOWNSTAIRS       0        0         0        0                 409   \n",
      "WALKING_UPSTAIRS         3        0         0       12                   0   \n",
      "\n",
      "Pred                WALKING_UPSTAIRS  \n",
      "True                                  \n",
      "LAYING                             0  \n",
      "SITTING                           10  \n",
      "STANDING                           0  \n",
      "WALKING                           47  \n",
      "WALKING_DOWNSTAIRS                11  \n",
      "WALKING_UPSTAIRS                 456  \n"
     ]
    }
   ],
   "source": [
    "# Confusion Matrix\n",
    "print(confusion_matrix(Y_test, model3.predict(X_test)))"
   ]
  },
  {
   "cell_type": "code",
   "execution_count": 102,
   "metadata": {},
   "outputs": [
    {
     "name": "stdout",
     "output_type": "stream",
     "text": [
      "2947/2947 [==============================] - 4s 1ms/step\n"
     ]
    }
   ],
   "source": [
    "score = model3.evaluate(X_test, Y_test)"
   ]
  },
  {
   "cell_type": "code",
   "execution_count": 103,
   "metadata": {},
   "outputs": [
    {
     "data": {
      "text/plain": [
       "[0.09760692525769749, 0.9694604873657227]"
      ]
     },
     "execution_count": 103,
     "metadata": {},
     "output_type": "execute_result"
    }
   ],
   "source": [
    "score"
   ]
  },
  {
   "cell_type": "code",
   "execution_count": 3,
   "metadata": {},
   "outputs": [],
   "source": [
    "## now lets again develop the tarial 1 artitechure \n",
    "#let us now consider the 2 lstm layes and optimiser as \"adams\" and activation as the \"softmax\"\n",
    "#here i am using the gereater dropout factor becouse we are dealing with the less data and grreater artitecure \n",
    "#this model worked pretty well than the trail 2 model by 0.39"
   ]
  },
  {
   "cell_type": "code",
   "execution_count": 4,
   "metadata": {},
   "outputs": [],
   "source": [
    "#i have tried the diffent optimiser like relu with different actiation n the different notebook "
   ]
  },
  {
   "cell_type": "markdown",
   "metadata": {},
   "source": [
    "# Conclusion "
   ]
  },
  {
   "cell_type": "code",
   "execution_count": 5,
   "metadata": {},
   "outputs": [],
   "source": [
    "## from the two notebooks the observed results are "
   ]
  },
  {
   "cell_type": "code",
   "execution_count": 6,
   "metadata": {},
   "outputs": [],
   "source": [
    "## pretty table"
   ]
  },
  {
   "cell_type": "code",
   "execution_count": 8,
   "metadata": {},
   "outputs": [
    {
     "name": "stdout",
     "output_type": "stream",
     "text": [
      "+-------+--------------+-----------+-------------+----------------------+----------+\n",
      "| Model | No of layers | Optimizer | Activation  | Multiclass log loss  | Accuracy |\n",
      "+-------+--------------+-----------+-------------+----------------------+----------+\n",
      "|  LSTM |      1       |  rmsprop  |   sigmoid   |        0.3087        |  90.97   |\n",
      "|  LSTM |      1       |  adagrad  |   sigmoid   |        0.7983        |  60.909  |\n",
      "|  LSTM |      1       |   Nadam   |   softmax   |        0.096         |  96.55   |\n",
      "|  LSTM |      2       |    adam   |   softmax   |        0.097         |  96.946  |\n",
      "|  LSTM |      2       |    adam   |   sigmoid   |        0.404         |  89.277  |\n",
      "|  LSTM |      2       |    adam   |   sigmoid   |        0.3027        |  91.652  |\n",
      "|  LSTM |      2       |    adam   |     relu    |          -           |   16.8   |\n",
      "+-------+--------------+-----------+-------------+----------------------+----------+\n"
     ]
    }
   ],
   "source": [
    "# Please compare all your models using Prettytable library\n",
    "from prettytable import PrettyTable\n",
    "\n",
    "\n",
    "x = PrettyTable()\n",
    "x.field_names = [\"Model\", \"No of layers\",\"Optimizer\", \"Activation \",\"Multiclass log loss \",\"Accuracy\"]\n",
    "\n",
    "x.add_row(['LSTM' , 1 ,  \"rmsprop\" ,\"sigmoid\"  , 0.3087 , 90.97 ])\n",
    "x.add_row([\"LSTM\" , 1 ,  \"adagrad\" ,\"sigmoid\"  , 0.7983 , 60.909 ])\n",
    "x.add_row(['LSTM' , 1 ,  \"Nadam\"   ,\"softmax \" , 0.096  , 96.55])\n",
    "x.add_row([\"LSTM\" , 2 ,  \"adam\"    ,\"softmax\"  , 0.097  , 96.946 ])\n",
    "x.add_row([\"LSTM\" , 2 ,  \"adam\"    , \"sigmoid\" , 0.4040 , 89.277])\n",
    "x.add_row([\"LSTM\" , 2 ,  \"adam\"    ,\"sigmoid\"  , 0.3027 , 91.652 ])\n",
    "x.add_row([\"LSTM\" , 2 ,  \"adam\"    ,\"relu\"     , \"-\"    , 16.8 ])\n",
    "\n",
    "\n",
    "print(x)"
   ]
  },
  {
   "cell_type": "code",
   "execution_count": null,
   "metadata": {},
   "outputs": [],
   "source": []
  }
 ],
 "metadata": {
  "kernelspec": {
   "display_name": "Python 3",
   "language": "python",
   "name": "python3"
  },
  "language_info": {
   "codemirror_mode": {
    "name": "ipython",
    "version": 3
   },
   "file_extension": ".py",
   "mimetype": "text/x-python",
   "name": "python",
   "nbconvert_exporter": "python",
   "pygments_lexer": "ipython3",
   "version": "3.7.3"
  }
 },
 "nbformat": 4,
 "nbformat_minor": 2
}
