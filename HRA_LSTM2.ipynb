{
 "cells": [
  {
   "cell_type": "code",
   "execution_count": 1,
   "metadata": {},
   "outputs": [],
   "source": [
    "import pandas as pd\n",
    "import numpy as np"
   ]
  },
  {
   "cell_type": "code",
   "execution_count": 2,
   "metadata": {},
   "outputs": [],
   "source": [
    "# Activities are the class labels\n",
    "# It is a 6 class classification\n",
    "ACTIVITIES = {\n",
    "    0: 'WALKING',\n",
    "    1: 'WALKING_UPSTAIRS',\n",
    "    2: 'WALKING_DOWNSTAIRS',\n",
    "    3: 'SITTING',\n",
    "    4: 'STANDING',\n",
    "    5: 'LAYING',\n",
    "}\n",
    "\n",
    "# Utility function to print the confusion matrix\n",
    "def confusion_matrix(Y_true, Y_pred):\n",
    "    Y_true = pd.Series([ACTIVITIES[y] for y in np.argmax(Y_true, axis=1)])\n",
    "    Y_pred = pd.Series([ACTIVITIES[y] for y in np.argmax(Y_pred, axis=1)])\n",
    "\n",
    "    return pd.crosstab(Y_true, Y_pred, rownames=['True'], colnames=['Pred'])"
   ]
  },
  {
   "cell_type": "code",
   "execution_count": 3,
   "metadata": {},
   "outputs": [],
   "source": [
    "# Data directory\n",
    "DATADIR = 'UCI_HAR_Dataset'"
   ]
  },
  {
   "cell_type": "code",
   "execution_count": 4,
   "metadata": {},
   "outputs": [],
   "source": [
    "# Raw data signals\n",
    "# Signals are from Accelerometer and Gyroscope\n",
    "# The signals are in x,y,z directions\n",
    "# Sensor signals are filtered to have only body acceleration\n",
    "# excluding the acceleration due to gravity\n",
    "# Triaxial acceleration from the accelerometer is total acceleration\n",
    "SIGNALS = [\n",
    "    \"body_acc_x\",\n",
    "    \"body_acc_y\",\n",
    "    \"body_acc_z\",\n",
    "    \"body_gyro_x\",\n",
    "    \"body_gyro_y\",\n",
    "    \"body_gyro_z\",\n",
    "    \"total_acc_x\",\n",
    "    \"total_acc_y\",\n",
    "    \"total_acc_z\"\n",
    "]"
   ]
  },
  {
   "cell_type": "code",
   "execution_count": 5,
   "metadata": {},
   "outputs": [],
   "source": [
    "# Utility function to read the data from csv file\n",
    "def _read_csv(filename):\n",
    "    return pd.read_csv(filename, delim_whitespace=True, header=None)\n",
    "\n",
    "# Utility function to load the load\n",
    "def load_signals(subset):\n",
    "    signals_data = []\n",
    "\n",
    "    for signal in SIGNALS:\n",
    "        filename = f'UCI_HAR_Dataset/{subset}/Inertial Signals/{signal}_{subset}.txt'\n",
    "        signals_data.append(\n",
    "            _read_csv(filename).as_matrix()\n",
    "        ) \n",
    "\n",
    "    # Transpose is used to change the dimensionality of the output,\n",
    "    # aggregating the signals by combination of sample/timestep.\n",
    "    # Resultant shape is (7352 train/2947 test samples, 128 timesteps, 9 signals)\n",
    "    return np.transpose(signals_data, (1, 2, 0))"
   ]
  },
  {
   "cell_type": "code",
   "execution_count": 6,
   "metadata": {},
   "outputs": [],
   "source": [
    "\n",
    "def load_y(subset):\n",
    "    \"\"\"\n",
    "    The objective that we are trying to predict is a integer, from 1 to 6,\n",
    "    that represents a human activity. We return a binary representation of \n",
    "    every sample objective as a 6 bits vector using One Hot Encoding\n",
    "    (https://pandas.pydata.org/pandas-docs/stable/generated/pandas.get_dummies.html)\n",
    "    \"\"\"\n",
    "    filename = f'UCI_HAR_Dataset/{subset}/y_{subset}.txt'\n",
    "    y = _read_csv(filename)[0]\n",
    "\n",
    "    return pd.get_dummies(y).as_matrix()"
   ]
  },
  {
   "cell_type": "code",
   "execution_count": 7,
   "metadata": {},
   "outputs": [],
   "source": [
    "def load_data():\n",
    "    \"\"\"\n",
    "    Obtain the dataset from multiple files.\n",
    "    Returns: X_train, X_test, y_train, y_test\n",
    "    \"\"\"\n",
    "    X_train, X_test = load_signals('train'), load_signals('test')\n",
    "    y_train, y_test = load_y('train'), load_y('test')\n",
    "\n",
    "    return X_train, X_test, y_train, y_test"
   ]
  },
  {
   "cell_type": "code",
   "execution_count": 8,
   "metadata": {},
   "outputs": [
    {
     "data": {
      "text/plain": [
       "'1.15.0'"
      ]
     },
     "execution_count": 8,
     "metadata": {},
     "output_type": "execute_result"
    }
   ],
   "source": [
    "import tensorflow as tf\n",
    "tf.__version__"
   ]
  },
  {
   "cell_type": "code",
   "execution_count": 9,
   "metadata": {},
   "outputs": [],
   "source": [
    "# Importing tensorflow\n",
    "np.random.seed(42)\n",
    "#import tensorflow as tf\n",
    "tf.set_random_seed(42)"
   ]
  },
  {
   "cell_type": "code",
   "execution_count": 10,
   "metadata": {},
   "outputs": [],
   "source": [
    "# Configuring a session\n",
    "session_conf = tf.ConfigProto(\n",
    "                              intra_op_parallelism_threads=1,\n",
    "                              inter_op_parallelism_threads=1\n",
    "                              )"
   ]
  },
  {
   "cell_type": "code",
   "execution_count": 11,
   "metadata": {},
   "outputs": [
    {
     "name": "stderr",
     "output_type": "stream",
     "text": [
      "Using TensorFlow backend.\n"
     ]
    }
   ],
   "source": [
    "# Import Keras\n",
    "from keras import backend as K\n",
    "sess = tf.Session(graph=tf.get_default_graph(), config=session_conf)\n",
    "K.set_session(sess)"
   ]
  },
  {
   "cell_type": "code",
   "execution_count": 12,
   "metadata": {},
   "outputs": [],
   "source": [
    "# Importing libraries\n",
    "from keras.models import Sequential\n",
    "from keras.layers import LSTM\n",
    "from keras.layers.core import Dense, Dropout\n",
    "from keras.layers import LSTM , BatchNormalization\n",
    "from keras.regularizers import L1L2\n",
    "import matplotlib.pyplot as plt\n",
    "plt.rcParams[\"font.family\"] = 'DejaVu Sans'\n",
    "import seaborn as sns\n",
    "\n",
    "# To be able to save images on server\n",
    "import matplotlib\n",
    "matplotlib.use('Agg')\n",
    "from matplotlib import pyplot\n",
    "\n",
    "import warnings\n",
    "warnings.filterwarnings(\"ignore\")\n",
    "warnings.simplefilter(action='ignore', category=FutureWarning)\n",
    "warnings.simplefilter(action='ignore', category=UserWarning)\n",
    "\n",
    "import itertools\n",
    "from datetime import datetime"
   ]
  },
  {
   "cell_type": "code",
   "execution_count": 13,
   "metadata": {},
   "outputs": [],
   "source": [
    "# Utility function to count the number of classes\n",
    "def _count_classes(y):\n",
    "    return len(set([tuple(category) for category in y]))"
   ]
  },
  {
   "cell_type": "code",
   "execution_count": 14,
   "metadata": {},
   "outputs": [],
   "source": [
    "# Loading the train and test data\n",
    "X_train, X_test, Y_train, Y_test = load_data()"
   ]
  },
  {
   "cell_type": "code",
   "execution_count": 15,
   "metadata": {},
   "outputs": [
    {
     "name": "stdout",
     "output_type": "stream",
     "text": [
      "128\n",
      "9\n",
      "7352\n"
     ]
    }
   ],
   "source": [
    "timesteps = len(X_train[0])\n",
    "input_dim = len(X_train[0][0])\n",
    "n_classes = _count_classes(Y_train)\n",
    "\n",
    "print(timesteps)\n",
    "print(input_dim)\n",
    "print(len(X_train))"
   ]
  },
  {
   "cell_type": "code",
   "execution_count": 16,
   "metadata": {},
   "outputs": [],
   "source": [
    "def plot_train_cv_loss(trained_model, epochs, colors=['g']):\n",
    "    fig, ax = plt.subplots(1,1)    \n",
    "    ax.set_xlabel('epoch') \n",
    "    ax.set_ylabel('Categorical Crossentropy Loss')\n",
    "    x_axis_values = list(range(1,epochs+1))\n",
    "\n",
    "    validation_loss = trained_model.history['val_loss']\n",
    "    train_loss = trained_model.history['loss']   \n",
    "    \n",
    "    ax.plot(x_axis_values, validation_loss, 'g', label=\"Validation Loss\")\n",
    "    ax.plot(x_axis_values, train_loss, 'r', label=\"Train Loss\")\n",
    "    plt.legend()\n",
    "    plt.grid()\n",
    "    fig.canvas.draw()"
   ]
  },
  {
   "cell_type": "markdown",
   "metadata": {},
   "source": [
    "## Trail 4"
   ]
  },
  {
   "cell_type": "code",
   "execution_count": 20,
   "metadata": {},
   "outputs": [],
   "source": [
    "n_epochs = 30\n",
    "n_batch = 16\n",
    "n_classes = _count_classes(Y_train)\n",
    "\n",
    "# Bias regularizer value - we will use elasticnet\n",
    "reg = L1L2(0.01, 0.01)"
   ]
  },
  {
   "cell_type": "code",
   "execution_count": 21,
   "metadata": {},
   "outputs": [
    {
     "name": "stdout",
     "output_type": "stream",
     "text": [
      "WARNING:tensorflow:From C:\\Users\\SUNNY\\Anaconda3\\lib\\site-packages\\tensorflow_core\\python\\ops\\resource_variable_ops.py:1630: calling BaseResourceVariable.__init__ (from tensorflow.python.ops.resource_variable_ops) with constraint is deprecated and will be removed in a future version.\n",
      "Instructions for updating:\n",
      "If using Keras pass *_constraint arguments to layers.\n",
      "Model Summary: \n",
      "Model: \"sequential_1\"\n",
      "_________________________________________________________________\n",
      "Layer (type)                 Output Shape              Param #   \n",
      "=================================================================\n",
      "lstm_1 (LSTM)                (None, 128, 32)           5376      \n",
      "_________________________________________________________________\n",
      "batch_normalization_1 (Batch (None, 128, 32)           128       \n",
      "_________________________________________________________________\n",
      "dropout_1 (Dropout)          (None, 128, 32)           0         \n",
      "_________________________________________________________________\n",
      "lstm_2 (LSTM)                (None, 32)                8320      \n",
      "_________________________________________________________________\n",
      "dropout_2 (Dropout)          (None, 32)                0         \n",
      "_________________________________________________________________\n",
      "dense_1 (Dense)              (None, 6)                 198       \n",
      "=================================================================\n",
      "Total params: 14,022\n",
      "Trainable params: 13,958\n",
      "Non-trainable params: 64\n",
      "_________________________________________________________________\n"
     ]
    }
   ],
   "source": [
    "model = Sequential()\n",
    "model.add(LSTM(32, input_shape=(timesteps, input_dim), return_sequences=True, bias_regularizer=reg))\n",
    "model.add(BatchNormalization())\n",
    "model.add(Dropout(0.50))\n",
    "model.add(LSTM(32))\n",
    "model.add(Dropout(0.50))\n",
    "model.add(Dense(n_classes, activation='sigmoid'))\n",
    "print(\"Model Summary: \")\n",
    "model.summary()"
   ]
  },
  {
   "cell_type": "code",
   "execution_count": 22,
   "metadata": {},
   "outputs": [],
   "source": [
    "model.compile(loss='categorical_crossentropy',\n",
    "          optimizer='adam',\n",
    "          metrics=['accuracy'])"
   ]
  },
  {
   "cell_type": "code",
   "execution_count": 25,
   "metadata": {},
   "outputs": [
    {
     "name": "stdout",
     "output_type": "stream",
     "text": [
      "WARNING:tensorflow:From C:\\Users\\SUNNY\\Anaconda3\\lib\\site-packages\\tensorflow_core\\python\\ops\\math_grad.py:1424: where (from tensorflow.python.ops.array_ops) is deprecated and will be removed in a future version.\n",
      "Instructions for updating:\n",
      "Use tf.where in 2.0, which has the same broadcast rule as np.where\n",
      "WARNING:tensorflow:From C:\\Users\\SUNNY\\Anaconda3\\lib\\site-packages\\keras\\backend\\tensorflow_backend.py:422: The name tf.global_variables is deprecated. Please use tf.compat.v1.global_variables instead.\n",
      "\n",
      "Train on 7352 samples, validate on 2947 samples\n",
      "Epoch 1/30\n",
      "7352/7352 [==============================] - 60s 8ms/step - loss: 1.5433 - accuracy: 0.6223 - val_loss: 1.1721 - val_accuracy: 0.6508\n",
      "Epoch 2/30\n",
      "7352/7352 [==============================] - 57s 8ms/step - loss: 0.8973 - accuracy: 0.7242 - val_loss: 0.7987 - val_accuracy: 0.7299\n",
      "Epoch 3/30\n",
      "7352/7352 [==============================] - 59s 8ms/step - loss: 0.6262 - accuracy: 0.8016 - val_loss: 0.5663 - val_accuracy: 0.7964\n",
      "Epoch 4/30\n",
      "7352/7352 [==============================] - 56s 8ms/step - loss: 0.4606 - accuracy: 0.8565 - val_loss: 0.3072 - val_accuracy: 0.8989\n",
      "Epoch 5/30\n",
      "7352/7352 [==============================] - 53s 7ms/step - loss: 0.3512 - accuracy: 0.8916 - val_loss: 0.2956 - val_accuracy: 0.8968\n",
      "Epoch 6/30\n",
      "7352/7352 [==============================] - 53s 7ms/step - loss: 0.3429 - accuracy: 0.8951 - val_loss: 0.4878 - val_accuracy: 0.8327\n",
      "Epoch 7/30\n",
      "7352/7352 [==============================] - 55s 8ms/step - loss: 0.2771 - accuracy: 0.9127 - val_loss: 0.2589 - val_accuracy: 0.9019\n",
      "Epoch 8/30\n",
      "7352/7352 [==============================] - 53s 7ms/step - loss: 0.2405 - accuracy: 0.9266 - val_loss: 0.3089 - val_accuracy: 0.8951\n",
      "Epoch 9/30\n",
      "7352/7352 [==============================] - 54s 7ms/step - loss: 0.2286 - accuracy: 0.9251 - val_loss: 0.2359 - val_accuracy: 0.9097\n",
      "Epoch 10/30\n",
      "7352/7352 [==============================] - 53s 7ms/step - loss: 0.2060 - accuracy: 0.9323 - val_loss: 0.2386 - val_accuracy: 0.9101\n",
      "Epoch 11/30\n",
      "7352/7352 [==============================] - 54s 7ms/step - loss: 0.1993 - accuracy: 0.9321 - val_loss: 0.3725 - val_accuracy: 0.8979\n",
      "Epoch 12/30\n",
      "7352/7352 [==============================] - 53s 7ms/step - loss: 0.1985 - accuracy: 0.9335 - val_loss: 0.2383 - val_accuracy: 0.9121\n",
      "Epoch 13/30\n",
      "7352/7352 [==============================] - 53s 7ms/step - loss: 0.1969 - accuracy: 0.9338 - val_loss: 0.2615 - val_accuracy: 0.9097\n",
      "Epoch 14/30\n",
      "7352/7352 [==============================] - 53s 7ms/step - loss: 0.1980 - accuracy: 0.9340 - val_loss: 0.3144 - val_accuracy: 0.9030\n",
      "Epoch 15/30\n",
      "7352/7352 [==============================] - 53s 7ms/step - loss: 0.1776 - accuracy: 0.9412 - val_loss: 0.2324 - val_accuracy: 0.9189\n",
      "Epoch 16/30\n",
      "7352/7352 [==============================] - 55s 7ms/step - loss: 0.1748 - accuracy: 0.9404 - val_loss: 0.2422 - val_accuracy: 0.9213\n",
      "Epoch 17/30\n",
      "7352/7352 [==============================] - 55s 7ms/step - loss: 0.2093 - accuracy: 0.9289 - val_loss: 0.2580 - val_accuracy: 0.9155\n",
      "Epoch 18/30\n",
      "7352/7352 [==============================] - 54s 7ms/step - loss: 0.1759 - accuracy: 0.9387 - val_loss: 0.3274 - val_accuracy: 0.8941\n",
      "Epoch 19/30\n",
      "7352/7352 [==============================] - 53s 7ms/step - loss: 0.1972 - accuracy: 0.9327 - val_loss: 0.2977 - val_accuracy: 0.9104\n",
      "Epoch 20/30\n",
      "7352/7352 [==============================] - 53s 7ms/step - loss: 0.2586 - accuracy: 0.9214 - val_loss: 0.4718 - val_accuracy: 0.8375\n",
      "Epoch 21/30\n",
      "7352/7352 [==============================] - 53s 7ms/step - loss: 0.2630 - accuracy: 0.9132 - val_loss: 0.1962 - val_accuracy: 0.9233\n",
      "Epoch 22/30\n",
      "7352/7352 [==============================] - 54s 7ms/step - loss: 0.1760 - accuracy: 0.9384 - val_loss: 0.2043 - val_accuracy: 0.9213\n",
      "Epoch 23/30\n",
      "7352/7352 [==============================] - 55s 8ms/step - loss: 0.1787 - accuracy: 0.9363 - val_loss: 0.2496 - val_accuracy: 0.9135\n",
      "Epoch 24/30\n",
      "7352/7352 [==============================] - 53s 7ms/step - loss: 0.1611 - accuracy: 0.9436 - val_loss: 0.2088 - val_accuracy: 0.9213\n",
      "Epoch 25/30\n",
      "7352/7352 [==============================] - 54s 7ms/step - loss: 0.1597 - accuracy: 0.9434 - val_loss: 0.2274 - val_accuracy: 0.9257\n",
      "Epoch 26/30\n",
      "7352/7352 [==============================] - 53s 7ms/step - loss: 0.1486 - accuracy: 0.9433 - val_loss: 0.2331 - val_accuracy: 0.9172\n",
      "Epoch 27/30\n",
      "7352/7352 [==============================] - 53s 7ms/step - loss: 0.1541 - accuracy: 0.9427 - val_loss: 0.2506 - val_accuracy: 0.9226\n",
      "Epoch 28/30\n",
      "7352/7352 [==============================] - 53s 7ms/step - loss: 0.1656 - accuracy: 0.9384 - val_loss: 0.3082 - val_accuracy: 0.8982\n",
      "Epoch 29/30\n",
      "7352/7352 [==============================] - 78s 11ms/step - loss: 0.1777 - accuracy: 0.9363 - val_loss: 0.3681 - val_accuracy: 0.8965\n",
      "Epoch 30/30\n",
      "7352/7352 [==============================] - 55s 7ms/step - loss: 0.1536 - accuracy: 0.9419 - val_loss: 0.3027 - val_accuracy: 0.9165\n",
      "\n",
      " Time Taken:  0:27:31.560827\n"
     ]
    }
   ],
   "source": [
    "start = datetime.now()\n",
    "\n",
    "# Training the model\n",
    "trained_model  = model.fit(X_train,\n",
    "                           Y_train,\n",
    "                           batch_size=n_batch,\n",
    "                           validation_data=(X_test, Y_test),\n",
    "                           epochs=n_epochs)\n",
    "\n",
    "print(\"\\n Time Taken: \",datetime.now() - start)"
   ]
  },
  {
   "cell_type": "code",
   "execution_count": 26,
   "metadata": {},
   "outputs": [
    {
     "name": "stdout",
     "output_type": "stream",
     "text": [
      "Pred                LAYING  SITTING  STANDING  WALKING  WALKING_DOWNSTAIRS  \\\n",
      "True                                                                         \n",
      "LAYING                 537        0         0        0                   0   \n",
      "SITTING                  0      417        72        0                   0   \n",
      "STANDING                 0      108       424        0                   0   \n",
      "WALKING                  0        0         0      495                   1   \n",
      "WALKING_DOWNSTAIRS       0        0         0       12                 407   \n",
      "WALKING_UPSTAIRS         0        0         0       48                   2   \n",
      "\n",
      "Pred                WALKING_UPSTAIRS  \n",
      "True                                  \n",
      "LAYING                             0  \n",
      "SITTING                            2  \n",
      "STANDING                           0  \n",
      "WALKING                            0  \n",
      "WALKING_DOWNSTAIRS                 1  \n",
      "WALKING_UPSTAIRS                 421  \n"
     ]
    }
   ],
   "source": [
    "# Confusion Matrix\n",
    "print(confusion_matrix(Y_test, model.predict(X_test)))"
   ]
  },
  {
   "cell_type": "code",
   "execution_count": 28,
   "metadata": {},
   "outputs": [
    {
     "data": {
      "image/png": "[encoded data removed]",
      "text/plain": [
       "<Figure size 432x288 with 1 Axes>"
      ]
     },
     "metadata": {
      "needs_background": "light"
     },
     "output_type": "display_data"
    }
   ],
   "source": [
    "plot_train_cv_loss(trained_model, n_epochs)"
   ]
  },
  {
   "cell_type": "code",
   "execution_count": 27,
   "metadata": {},
   "outputs": [
    {
     "name": "stdout",
     "output_type": "stream",
     "text": [
      "2947/2947 [==============================] - 3s 901us/step\n"
     ]
    },
    {
     "data": {
      "text/plain": [
       "[0.3027004264884881, 0.9165253043174744]"
      ]
     },
     "execution_count": 27,
     "metadata": {},
     "output_type": "execute_result"
    }
   ],
   "source": [
    "score = model.evaluate(X_test, Y_test)\n",
    "score"
   ]
  },
  {
   "cell_type": "markdown",
   "metadata": {},
   "source": [
    "## Observation"
   ]
  },
  {
   "cell_type": "code",
   "execution_count": null,
   "metadata": {},
   "outputs": [],
   "source": [
    "## this model is works well and we still need to improve the score \n"
   ]
  },
  {
   "cell_type": "markdown",
   "metadata": {},
   "source": [
    "## Trail 5"
   ]
  },
  {
   "cell_type": "code",
   "execution_count": 23,
   "metadata": {},
   "outputs": [],
   "source": [
    "n_epochs = 30\n",
    "n_batch = 16\n",
    "n_classes = _count_classes(Y_train)\n",
    "\n",
    "# Bias regularizer value - we will use elasticnet\n",
    "reg = L1L2(0.01, 0.01)"
   ]
  },
  {
   "cell_type": "code",
   "execution_count": 24,
   "metadata": {},
   "outputs": [
    {
     "name": "stdout",
     "output_type": "stream",
     "text": [
      "Model Summary: \n",
      "Model: \"sequential_2\"\n",
      "_________________________________________________________________\n",
      "Layer (type)                 Output Shape              Param #   \n",
      "=================================================================\n",
      "lstm_2 (LSTM)                (None, 128, 64)           18944     \n",
      "_________________________________________________________________\n",
      "batch_normalization_1 (Batch (None, 128, 64)           256       \n",
      "_________________________________________________________________\n",
      "dropout_2 (Dropout)          (None, 128, 64)           0         \n",
      "_________________________________________________________________\n",
      "lstm_3 (LSTM)                (None, 32)                12416     \n",
      "_________________________________________________________________\n",
      "dropout_3 (Dropout)          (None, 32)                0         \n",
      "_________________________________________________________________\n",
      "dense_2 (Dense)              (None, 6)                 198       \n",
      "=================================================================\n",
      "Total params: 31,814\n",
      "Trainable params: 31,686\n",
      "Non-trainable params: 128\n",
      "_________________________________________________________________\n"
     ]
    }
   ],
   "source": [
    "model1 = Sequential()\n",
    "model1.add(LSTM(64, input_shape=(timesteps, input_dim), return_sequences=True, bias_regularizer=reg))\n",
    "model1.add(BatchNormalization())\n",
    "model1.add(Dropout(0.50))\n",
    "model1.add(LSTM(32))\n",
    "model1.add(Dropout(0.50))\n",
    "model1.add(Dense(n_classes, activation='relu'))\n",
    "print(\"Model Summary: \")\n",
    "model1.summary()"
   ]
  },
  {
   "cell_type": "code",
   "execution_count": 25,
   "metadata": {},
   "outputs": [],
   "source": [
    "model1.compile(loss='categorical_crossentropy',\n",
    "          optimizer='adam',\n",
    "          metrics=['accuracy'])"
   ]
  },
  {
   "cell_type": "code",
   "execution_count": 26,
   "metadata": {},
   "outputs": [
    {
     "name": "stdout",
     "output_type": "stream",
     "text": [
      "Train on 7352 samples, validate on 2947 samples\n",
      "Epoch 1/30\n",
      "7352/7352 [==============================] - 75s 10ms/step - loss: nan - accuracy: 0.1665 - val_loss: nan - val_accuracy: 0.1683\n",
      "Epoch 2/30\n",
      "7352/7352 [==============================] - 75s 10ms/step - loss: nan - accuracy: 0.1668 - val_loss: nan - val_accuracy: 0.1683\n",
      "Epoch 3/30\n",
      "7352/7352 [==============================] - 71s 10ms/step - loss: nan - accuracy: 0.1668 - val_loss: nan - val_accuracy: 0.1683\n",
      "Epoch 4/30\n",
      "7352/7352 [==============================] - 69s 9ms/step - loss: nan - accuracy: 0.1668 - val_loss: nan - val_accuracy: 0.1683\n",
      "Epoch 5/30\n",
      "7352/7352 [==============================] - 101s 14ms/step - loss: nan - accuracy: 0.1668 - val_loss: nan - val_accuracy: 0.1683\n",
      "Epoch 6/30\n",
      "7352/7352 [==============================] - 73s 10ms/step - loss: nan - accuracy: 0.1668 - val_loss: nan - val_accuracy: 0.1683\n",
      "Epoch 7/30\n",
      "7352/7352 [==============================] - 66s 9ms/step - loss: nan - accuracy: 0.1668 - val_loss: nan - val_accuracy: 0.1683\n",
      "Epoch 8/30\n",
      "7352/7352 [==============================] - 68s 9ms/step - loss: nan - accuracy: 0.1668 - val_loss: nan - val_accuracy: 0.1683\n",
      "Epoch 9/30\n",
      "7352/7352 [==============================] - 66s 9ms/step - loss: nan - accuracy: 0.1668 - val_loss: nan - val_accuracy: 0.1683\n",
      "Epoch 10/30\n",
      "7352/7352 [==============================] - 68s 9ms/step - loss: nan - accuracy: 0.1668 - val_loss: nan - val_accuracy: 0.1683\n",
      "Epoch 11/30\n",
      "7352/7352 [==============================] - 66s 9ms/step - loss: nan - accuracy: 0.1668 - val_loss: nan - val_accuracy: 0.1683\n",
      "Epoch 12/30\n",
      "7352/7352 [==============================] - 66s 9ms/step - loss: nan - accuracy: 0.1668 - val_loss: nan - val_accuracy: 0.1683\n",
      "Epoch 13/30\n",
      "7352/7352 [==============================] - 69s 9ms/step - loss: nan - accuracy: 0.1668 - val_loss: nan - val_accuracy: 0.1683\n",
      "Epoch 14/30\n",
      "7352/7352 [==============================] - 65s 9ms/step - loss: nan - accuracy: 0.1668 - val_loss: nan - val_accuracy: 0.1683\n",
      "Epoch 15/30\n",
      "7352/7352 [==============================] - 69s 9ms/step - loss: nan - accuracy: 0.1668 - val_loss: nan - val_accuracy: 0.1683\n",
      "Epoch 16/30\n",
      "7352/7352 [==============================] - 66s 9ms/step - loss: nan - accuracy: 0.1668 - val_loss: nan - val_accuracy: 0.1683\n",
      "Epoch 17/30\n",
      "7352/7352 [==============================] - 67s 9ms/step - loss: nan - accuracy: 0.1668 - val_loss: nan - val_accuracy: 0.1683\n",
      "Epoch 18/30\n",
      "7352/7352 [==============================] - 68s 9ms/step - loss: nan - accuracy: 0.1668 - val_loss: nan - val_accuracy: 0.1683\n",
      "Epoch 19/30\n",
      "7352/7352 [==============================] - 66s 9ms/step - loss: nan - accuracy: 0.1668 - val_loss: nan - val_accuracy: 0.1683\n",
      "Epoch 20/30\n",
      "7352/7352 [==============================] - 66s 9ms/step - loss: nan - accuracy: 0.1668 - val_loss: nan - val_accuracy: 0.1683\n",
      "Epoch 21/30\n",
      "7352/7352 [==============================] - 65s 9ms/step - loss: nan - accuracy: 0.1668 - val_loss: nan - val_accuracy: 0.1683\n",
      "Epoch 22/30\n",
      "7352/7352 [==============================] - 66s 9ms/step - loss: nan - accuracy: 0.1668 - val_loss: nan - val_accuracy: 0.1683\n",
      "Epoch 23/30\n",
      "7352/7352 [==============================] - 66s 9ms/step - loss: nan - accuracy: 0.1668 - val_loss: nan - val_accuracy: 0.1683\n",
      "Epoch 24/30\n",
      "7352/7352 [==============================] - 66s 9ms/step - loss: nan - accuracy: 0.1668 - val_loss: nan - val_accuracy: 0.1683\n",
      "Epoch 25/30\n",
      "7352/7352 [==============================] - 68s 9ms/step - loss: nan - accuracy: 0.1668 - val_loss: nan - val_accuracy: 0.1683\n",
      "Epoch 26/30\n",
      "7352/7352 [==============================] - 67s 9ms/step - loss: nan - accuracy: 0.1668 - val_loss: nan - val_accuracy: 0.1683\n",
      "Epoch 27/30\n",
      "7352/7352 [==============================] - 66s 9ms/step - loss: nan - accuracy: 0.1668 - val_loss: nan - val_accuracy: 0.1683\n",
      "Epoch 28/30\n",
      "7352/7352 [==============================] - 66s 9ms/step - loss: nan - accuracy: 0.1668 - val_loss: nan - val_accuracy: 0.1683\n",
      "Epoch 29/30\n",
      "7352/7352 [==============================] - 67s 9ms/step - loss: nan - accuracy: 0.1668 - val_loss: nan - val_accuracy: 0.1683\n",
      "Epoch 30/30\n",
      "7352/7352 [==============================] - 66s 9ms/step - loss: nan - accuracy: 0.1668 - val_loss: nan - val_accuracy: 0.1683\n",
      "\n",
      " Time Taken:  0:34:24.779045\n"
     ]
    }
   ],
   "source": [
    "start = datetime.now()\n",
    "\n",
    "# Training the model\n",
    "trained_model  = model1.fit(X_train,\n",
    "                           Y_train,\n",
    "                           batch_size=n_batch,\n",
    "                           validation_data=(X_test, Y_test),\n",
    "                           epochs=n_epochs)\n",
    "\n",
    "print(\"\\n Time Taken: \",datetime.now() - start)"
   ]
  },
  {
   "cell_type": "code",
   "execution_count": 27,
   "metadata": {},
   "outputs": [
    {
     "data": {
      "image/png": "[encoded data removed]",
      "text/plain": [
       "<Figure size 432x288 with 1 Axes>"
      ]
     },
     "metadata": {
      "needs_background": "light"
     },
     "output_type": "display_data"
    }
   ],
   "source": [
    "plot_train_cv_loss(trained_model, n_epochs)"
   ]
  },
  {
   "cell_type": "code",
   "execution_count": 28,
   "metadata": {},
   "outputs": [
    {
     "name": "stdout",
     "output_type": "stream",
     "text": [
      "Pred                WALKING\n",
      "True                       \n",
      "LAYING                  537\n",
      "SITTING                 491\n",
      "STANDING                532\n",
      "WALKING                 496\n",
      "WALKING_DOWNSTAIRS      420\n",
      "WALKING_UPSTAIRS        471\n"
     ]
    }
   ],
   "source": [
    "# Confusion Matrix\n",
    "print(confusion_matrix(Y_test, model1.predict(X_test)))"
   ]
  },
  {
   "cell_type": "code",
   "execution_count": 29,
   "metadata": {},
   "outputs": [
    {
     "name": "stdout",
     "output_type": "stream",
     "text": [
      "2947/2947 [==============================] - 4s 1ms/step\n"
     ]
    }
   ],
   "source": [
    "score1 = model1.evaluate(X_test, Y_test)"
   ]
  },
  {
   "cell_type": "code",
   "execution_count": 30,
   "metadata": {},
   "outputs": [
    {
     "data": {
      "text/plain": [
       "[nan, 0.16830675303936005]"
      ]
     },
     "execution_count": 30,
     "metadata": {},
     "output_type": "execute_result"
    }
   ],
   "source": [
    "score1"
   ]
  },
  {
   "cell_type": "markdown",
   "metadata": {},
   "source": [
    "## Observation"
   ]
  },
  {
   "cell_type": "code",
   "execution_count": 2,
   "metadata": {},
   "outputs": [],
   "source": [
    "# with the relu activation layer the reults are gone worse\n",
    "#the test accuracy is 16.83 % \n",
    "# the model not even calculated the val_loss \n",
    "# here i can conclude that the model with relu activtion is not best for the this case "
   ]
  },
  {
   "cell_type": "markdown",
   "metadata": {},
   "source": [
    "## Trail 6"
   ]
  },
  {
   "cell_type": "code",
   "execution_count": 17,
   "metadata": {},
   "outputs": [],
   "source": [
    "# Initializing parameters\n",
    "epochs = 30\n",
    "batch_size = 16\n",
    "n_hidden = 32"
   ]
  },
  {
   "cell_type": "code",
   "execution_count": 18,
   "metadata": {},
   "outputs": [
    {
     "name": "stdout",
     "output_type": "stream",
     "text": [
      "WARNING:tensorflow:From C:\\Users\\SUNNY\\Anaconda3\\lib\\site-packages\\tensorflow_core\\python\\ops\\resource_variable_ops.py:1630: calling BaseResourceVariable.__init__ (from tensorflow.python.ops.resource_variable_ops) with constraint is deprecated and will be removed in a future version.\n",
      "Instructions for updating:\n",
      "If using Keras pass *_constraint arguments to layers.\n",
      "Model: \"sequential_1\"\n",
      "_________________________________________________________________\n",
      "Layer (type)                 Output Shape              Param #   \n",
      "=================================================================\n",
      "lstm_1 (LSTM)                (None, 32)                5376      \n",
      "_________________________________________________________________\n",
      "dropout_1 (Dropout)          (None, 32)                0         \n",
      "_________________________________________________________________\n",
      "dense_1 (Dense)              (None, 6)                 198       \n",
      "=================================================================\n",
      "Total params: 5,574\n",
      "Trainable params: 5,574\n",
      "Non-trainable params: 0\n",
      "_________________________________________________________________\n"
     ]
    }
   ],
   "source": [
    "model2 = Sequential()\n",
    "# Configuring the parameters\n",
    "model2.add(LSTM(n_hidden, input_shape=(timesteps, input_dim)))\n",
    "# Adding a dropout layer\n",
    "model2.add(Dropout(0.5))\n",
    "# Adding a dense output layer with sigmoid activation\n",
    "model2.add(Dense(n_classes, activation='sigmoid'))\n",
    "model2.summary()"
   ]
  },
  {
   "cell_type": "code",
   "execution_count": 19,
   "metadata": {},
   "outputs": [],
   "source": [
    "# Compiling the model\n",
    "model2.compile(loss='categorical_crossentropy',\n",
    "              optimizer='adagrad',\n",
    "              metrics=['accuracy'])"
   ]
  },
  {
   "cell_type": "code",
   "execution_count": 20,
   "metadata": {},
   "outputs": [
    {
     "name": "stdout",
     "output_type": "stream",
     "text": [
      "WARNING:tensorflow:From C:\\Users\\SUNNY\\Anaconda3\\lib\\site-packages\\tensorflow_core\\python\\ops\\math_grad.py:1424: where (from tensorflow.python.ops.array_ops) is deprecated and will be removed in a future version.\n",
      "Instructions for updating:\n",
      "Use tf.where in 2.0, which has the same broadcast rule as np.where\n",
      "WARNING:tensorflow:From C:\\Users\\SUNNY\\Anaconda3\\lib\\site-packages\\keras\\backend\\tensorflow_backend.py:422: The name tf.global_variables is deprecated. Please use tf.compat.v1.global_variables instead.\n",
      "\n",
      "Train on 7352 samples, validate on 2947 samples\n",
      "Epoch 1/30\n",
      "7352/7352 [==============================] - 29s 4ms/step - loss: 1.2305 - accuracy: 0.4793 - val_loss: 1.1514 - val_accuracy: 0.4740\n",
      "Epoch 2/30\n",
      "7352/7352 [==============================] - 28s 4ms/step - loss: 0.9823 - accuracy: 0.5838 - val_loss: 1.1050 - val_accuracy: 0.5331\n",
      "Epoch 3/30\n",
      "7352/7352 [==============================] - 27s 4ms/step - loss: 0.9200 - accuracy: 0.5958 - val_loss: 0.9512 - val_accuracy: 0.5976\n",
      "Epoch 4/30\n",
      "7352/7352 [==============================] - 27s 4ms/step - loss: 1.1535 - accuracy: 0.4918 - val_loss: 1.2401 - val_accuracy: 0.4194\n",
      "Epoch 5/30\n",
      "7352/7352 [==============================] - 28s 4ms/step - loss: 1.0630 - accuracy: 0.5253 - val_loss: 1.2780 - val_accuracy: 0.3919\n",
      "Epoch 6/30\n",
      "7352/7352 [==============================] - 28s 4ms/step - loss: 0.8715 - accuracy: 0.6221 - val_loss: 0.8885 - val_accuracy: 0.6352\n",
      "Epoch 7/30\n",
      "7352/7352 [==============================] - 27s 4ms/step - loss: 0.8154 - accuracy: 0.6425 - val_loss: 0.8705 - val_accuracy: 0.6271\n",
      "Epoch 8/30\n",
      "7352/7352 [==============================] - 30s 4ms/step - loss: 0.8166 - accuracy: 0.6281 - val_loss: 0.8852 - val_accuracy: 0.5836\n",
      "Epoch 9/30\n",
      "7352/7352 [==============================] - 33s 4ms/step - loss: 0.8007 - accuracy: 0.6368 - val_loss: 0.8371 - val_accuracy: 0.6016\n",
      "Epoch 10/30\n",
      "7352/7352 [==============================] - 31s 4ms/step - loss: 0.7560 - accuracy: 0.6503 - val_loss: 0.8216 - val_accuracy: 0.5989\n",
      "Epoch 11/30\n",
      "7352/7352 [==============================] - 27s 4ms/step - loss: 0.7422 - accuracy: 0.6487 - val_loss: 0.8523 - val_accuracy: 0.6111\n",
      "Epoch 12/30\n",
      "7352/7352 [==============================] - 30s 4ms/step - loss: 0.7284 - accuracy: 0.6560 - val_loss: 0.8814 - val_accuracy: 0.5969\n",
      "Epoch 13/30\n",
      "7352/7352 [==============================] - 31s 4ms/step - loss: 0.7238 - accuracy: 0.6557 - val_loss: 0.8228 - val_accuracy: 0.5945\n",
      "Epoch 14/30\n",
      "7352/7352 [==============================] - 31s 4ms/step - loss: 0.7158 - accuracy: 0.6576 - val_loss: 0.8055 - val_accuracy: 0.6054\n",
      "Epoch 15/30\n",
      "7352/7352 [==============================] - 31s 4ms/step - loss: 0.7990 - accuracy: 0.6421 - val_loss: 0.8163 - val_accuracy: 0.6108\n",
      "Epoch 16/30\n",
      "7352/7352 [==============================] - 32s 4ms/step - loss: 0.7679 - accuracy: 0.6529 - val_loss: 0.8319 - val_accuracy: 0.6145\n",
      "Epoch 17/30\n",
      "7352/7352 [==============================] - 31s 4ms/step - loss: 0.7502 - accuracy: 0.6506 - val_loss: 0.8043 - val_accuracy: 0.6054\n",
      "Epoch 18/30\n",
      "7352/7352 [==============================] - 29s 4ms/step - loss: 0.7242 - accuracy: 0.6559 - val_loss: 0.8012 - val_accuracy: 0.6088\n",
      "Epoch 19/30\n",
      "7352/7352 [==============================] - 29s 4ms/step - loss: 0.7128 - accuracy: 0.6601 - val_loss: 0.8023 - val_accuracy: 0.6138\n",
      "Epoch 20/30\n",
      "7352/7352 [==============================] - 31s 4ms/step - loss: 0.7149 - accuracy: 0.6515 - val_loss: 0.7955 - val_accuracy: 0.6145\n",
      "Epoch 21/30\n",
      "7352/7352 [==============================] - 28s 4ms/step - loss: 0.7122 - accuracy: 0.6628 - val_loss: 0.7963 - val_accuracy: 0.6149\n",
      "Epoch 22/30\n",
      "7352/7352 [==============================] - 27s 4ms/step - loss: 0.7125 - accuracy: 0.6623 - val_loss: 0.7961 - val_accuracy: 0.6172\n",
      "Epoch 23/30\n",
      "7352/7352 [==============================] - 28s 4ms/step - loss: 0.7077 - accuracy: 0.6662 - val_loss: 0.8003 - val_accuracy: 0.6138\n",
      "Epoch 24/30\n",
      "7352/7352 [==============================] - 30s 4ms/step - loss: 0.7029 - accuracy: 0.6628 - val_loss: 0.7959 - val_accuracy: 0.6111\n",
      "Epoch 25/30\n",
      "7352/7352 [==============================] - 29s 4ms/step - loss: 0.7021 - accuracy: 0.6631 - val_loss: 0.7929 - val_accuracy: 0.6128\n",
      "Epoch 26/30\n",
      "7352/7352 [==============================] - 29s 4ms/step - loss: 0.6968 - accuracy: 0.6628 - val_loss: 0.7919 - val_accuracy: 0.6132\n",
      "Epoch 27/30\n",
      "7352/7352 [==============================] - 28s 4ms/step - loss: 0.6952 - accuracy: 0.6646 - val_loss: 0.7913 - val_accuracy: 0.6155\n",
      "Epoch 28/30\n",
      "7352/7352 [==============================] - 29s 4ms/step - loss: 0.6927 - accuracy: 0.6640 - val_loss: 0.7900 - val_accuracy: 0.6179\n",
      "Epoch 29/30\n",
      "7352/7352 [==============================] - 30s 4ms/step - loss: 0.6920 - accuracy: 0.6670 - val_loss: 0.7868 - val_accuracy: 0.6169\n",
      "Epoch 30/30\n",
      "7352/7352 [==============================] - 29s 4ms/step - loss: 0.6885 - accuracy: 0.6657 - val_loss: 0.7984 - val_accuracy: 0.6091\n"
     ]
    },
    {
     "data": {
      "text/plain": [
       "<keras.callbacks.callbacks.History at 0x1f616b805f8>"
      ]
     },
     "execution_count": 20,
     "metadata": {},
     "output_type": "execute_result"
    }
   ],
   "source": [
    "model2.fit(X_train,\n",
    "          Y_train,\n",
    "          batch_size=batch_size,\n",
    "          validation_data=(X_test, Y_test),\n",
    "          epochs=epochs)"
   ]
  },
  {
   "cell_type": "code",
   "execution_count": 21,
   "metadata": {},
   "outputs": [
    {
     "name": "stdout",
     "output_type": "stream",
     "text": [
      "Pred                LAYING  SITTING  STANDING  WALKING  WALKING_UPSTAIRS\n",
      "True                                                                    \n",
      "LAYING                 508        0         0       27                 2\n",
      "SITTING                  0      373        91       27                 0\n",
      "STANDING                 0       84       418       30                 0\n",
      "WALKING                  0        0         0      496                 0\n",
      "WALKING_DOWNSTAIRS       0        0         0      420                 0\n",
      "WALKING_UPSTAIRS         0        0         1      470                 0\n"
     ]
    }
   ],
   "source": [
    "print(confusion_matrix(Y_test, model2.predict(X_test)))"
   ]
  },
  {
   "cell_type": "code",
   "execution_count": 22,
   "metadata": {},
   "outputs": [
    {
     "name": "stdout",
     "output_type": "stream",
     "text": [
      "2947/2947 [==============================] - 1s 439us/step\n"
     ]
    },
    {
     "data": {
      "text/plain": [
       "[0.7983509799282875, 0.609093964099884]"
      ]
     },
     "execution_count": 22,
     "metadata": {},
     "output_type": "execute_result"
    }
   ],
   "source": [
    "score = model2.evaluate(X_test, Y_test)\n",
    "score"
   ]
  },
  {
   "cell_type": "markdown",
   "metadata": {},
   "source": [
    "## Observation "
   ]
  },
  {
   "cell_type": "code",
   "execution_count": 31,
   "metadata": {},
   "outputs": [],
   "source": [
    "# the optimiser adgrad also failed to calculate the better result\n",
    "# when we obser the confusion matrix \n",
    "# my model is unable to decet the walking upstaris\n",
    "# this model has given the test accurac of 60.909%only"
   ]
  },
  {
   "cell_type": "code",
   "execution_count": null,
   "metadata": {},
   "outputs": [],
   "source": []
  }
 ],
 "metadata": {
  "kernelspec": {
   "display_name": "Python 3",
   "language": "python",
   "name": "python3"
  },
  "language_info": {
   "codemirror_mode": {
    "name": "ipython",
    "version": 3
   },
   "file_extension": ".py",
   "mimetype": "text/x-python",
   "name": "python",
   "nbconvert_exporter": "python",
   "pygments_lexer": "ipython3",
   "version": "3.7.3"
  }
 },
 "nbformat": 4,
 "nbformat_minor": 2
}
